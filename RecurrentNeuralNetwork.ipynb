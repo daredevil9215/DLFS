{
 "cells": [
  {
   "cell_type": "code",
   "execution_count": 1,
   "metadata": {},
   "outputs": [],
   "source": [
    "import numpy as np\n",
    "import matplotlib.pyplot as plt"
   ]
  },
  {
   "cell_type": "markdown",
   "metadata": {},
   "source": [
    "# Recurrent neural network\n",
    "\n",
    "- used with sequential data (time series, sentences...)\n",
    "\n",
    "- parameters: input weights $\\mathbf{W}_i$, hidden weights $\\mathbf{W}_h$ and output weights $\\mathbf{W}_o$"
   ]
  },
  {
   "cell_type": "markdown",
   "metadata": {},
   "source": [
    "# Forward pass"
   ]
  },
  {
   "cell_type": "markdown",
   "metadata": {},
   "source": [
    "$$\\mathbf{z}_t = \\mathbf{h}_{t-1} \\cdot \\mathbf{W}_h + \\mathbf{x}_t \\cdot \\mathbf{W}_i + \\mathbf{b}_i$$\n",
    "$$\\mathbf{h}_{t} = \\phi(\\mathbf{z}_t)$$"
   ]
  },
  {
   "cell_type": "markdown",
   "metadata": {},
   "source": [
    "# Gradients"
   ]
  },
  {
   "cell_type": "markdown",
   "metadata": {},
   "source": [
    "$$\\frac{\\partial \\mathbf{z}_t}{\\partial \\mathbf{h}_{t-1}} = \\mathbf{W}_h \\quad \\quad \\frac{\\partial \\mathbf{z}_t}{\\partial \\mathbf{W}_h} = \\mathbf{h}_{t-1} \\quad \\quad \\frac{\\partial \\mathbf{z}_t}{\\partial \\mathbf{x}} = \\mathbf{W}_i \\quad \\quad \\frac{\\partial \\mathbf{z}_t}{\\partial \\mathbf{W}_i} = \\mathbf{x} \\quad \\quad \\frac{\\partial \\mathbf{z}_t}{\\partial \\mathbf{b}_i} = 1$$\n",
    "\n",
    "$$\\frac{\\partial \\mathbf{h}_t}{\\partial \\mathbf{z}_t} = \\phi'(\\mathbf{z}_t)$$"
   ]
  },
  {
   "cell_type": "markdown",
   "metadata": {},
   "source": [
    "# Backward pass\n"
   ]
  },
  {
   "cell_type": "markdown",
   "metadata": {},
   "source": [
    "$$ \n",
    "\n",
    "\\begin{align*}\n",
    "\n",
    "\\begin{aligned}\n",
    "\n",
    "\\frac{\\partial \\mathcal{L}_t}{\\partial \\mathbf{W}_h} &= \\left( \\frac{\\partial \\mathcal{L}_t}{\\partial \\mathbf{h}_t} + \\mathbf{g}_{t+1} \\cdot \\frac{\\partial \\mathbf{z}_{t+1}}{\\partial \\mathbf{h}_{t}} \\right) \\cdot \\frac{\\partial \\mathbf{h}_t}{\\partial \\mathbf{z}_t} \\cdot \\frac{\\partial \\mathbf{z}_t}{\\partial \\mathbf{W}_h} \\\\\n",
    "\n",
    "&= \\left( \\delta_t + \\mathbf{g}_{t+1} \\cdot \\mathbf{W}_h \\right) \\cdot \\phi'(\\mathbf{z}_t)\\cdot \\mathbf{h}_{t-1} \\\\\n",
    "\n",
    "&= \\left[\\mathbf{d}_t \\odot \\phi'(\\mathbf{z}_t) \\right] \\cdot \\mathbf{h}_{t-1} \\\\\n",
    "\n",
    "&= \\mathbf{g}_t \\cdot \\mathbf{h}_{t-1}\n",
    "\n",
    "\\end{aligned} \\quad \\quad\n",
    "\n",
    "\\begin{aligned}\n",
    "\\frac{\\partial \\mathcal{L}}{\\partial \\mathbf{W}_h} = \\sum_t \\frac{\\partial \\mathcal{L}_t}{\\partial \\mathbf{W}_h}\n",
    "\\end{aligned}\n",
    "\n",
    "\\end{align*}\n",
    "$$"
   ]
  },
  {
   "cell_type": "markdown",
   "metadata": {},
   "source": [
    "$$ \n",
    "\n",
    "\\begin{align*}\n",
    "\n",
    "\\begin{aligned}\n",
    "\n",
    "\\frac{\\partial \\mathcal{L}_t}{\\partial \\mathbf{W}_i} &= \\left( \\frac{\\partial \\mathcal{L}_t}{\\partial \\mathbf{h}_t} + \\mathbf{g}_{t+1} \\cdot \\frac{\\partial \\mathbf{z}_{t+1}}{\\partial \\mathbf{h}_{t}} \\right) \\cdot \\frac{\\partial \\mathbf{h}_t}{\\partial \\mathbf{z}_t} \\cdot \\frac{\\partial \\mathbf{z}_t}{\\partial \\mathbf{W}_i} \\\\\n",
    "\n",
    "&= \\left( \\delta_t + \\mathbf{g}_{t+1} \\cdot \\mathbf{W}_h \\right) \\cdot \\phi'(\\mathbf{z}_t)\\cdot \\mathbf{x}_{t} \\\\\n",
    "\n",
    "&= \\left[\\mathbf{d}_t \\odot \\phi'(\\mathbf{z}_t) \\right] \\cdot \\mathbf{x}_{t} \\\\\n",
    "\n",
    "&= \\mathbf{g}_t \\cdot \\mathbf{x}_{t}\n",
    "\n",
    "\\end{aligned} \\quad \\quad\n",
    "\n",
    "\\begin{aligned}\n",
    "\\frac{\\partial \\mathcal{L}}{\\partial \\mathbf{W}_i} = \\sum_t \\frac{\\partial \\mathcal{L}_t}{\\partial \\mathbf{W}_i}\n",
    "\\end{aligned}\n",
    "\n",
    "\\end{align*}\n",
    "$$"
   ]
  },
  {
   "cell_type": "markdown",
   "metadata": {},
   "source": [
    "$$ \n",
    "\n",
    "\\begin{align*}\n",
    "\n",
    "\\begin{aligned}\n",
    "\n",
    "\\frac{\\partial \\mathcal{L}_t}{\\partial \\mathbf{b}_i} &= \\left( \\frac{\\partial \\mathcal{L}_t}{\\partial \\mathbf{h}_t} + \\mathbf{g}_{t+1} \\cdot \\frac{\\partial \\mathbf{z}_{t+1}}{\\partial \\mathbf{h}_{t}} \\right) \\cdot \\frac{\\partial \\mathbf{h}_t}{\\partial \\mathbf{z}_t} \\cdot \\frac{\\partial \\mathbf{z}_t}{\\partial \\mathbf{b}_i} \\\\\n",
    "\n",
    "&= \\left( \\delta_t + \\mathbf{g}_{t+1} \\cdot \\mathbf{W}_h \\right) \\cdot \\phi'(\\mathbf{z}_t)\\cdot 1 \\\\\n",
    "\n",
    "&= \\mathbf{d}_t \\odot \\phi'(\\mathbf{z}_t) \\\\\n",
    "\n",
    "&= \\mathbf{g}_t\n",
    "\n",
    "\\end{aligned} \\quad \\quad\n",
    "\n",
    "\\begin{aligned}\n",
    "\\frac{\\partial \\mathcal{L}}{\\partial \\mathbf{b}_i} = \\sum_t \\frac{\\partial \\mathcal{L}_t}{\\partial \\mathbf{b}_i}\n",
    "\\end{aligned}\n",
    "\n",
    "\\end{align*}\n",
    "$$"
   ]
  },
  {
   "cell_type": "code",
   "execution_count": 2,
   "metadata": {},
   "outputs": [],
   "source": [
    "from dlfs.base import Layer\n",
    "\n",
    "class RecurrentLayer(Layer):\n",
    "\n",
    "    def __init__(self, n_inputs: int, n_hidden: int, predict_sequence: bool = False) -> None:\n",
    "        \"\"\"\n",
    "        Recurrent layer. Takes 3D arrays of shape (n_samples, n_timestamps, n_features) as input.\n",
    "\n",
    "        Parameters\n",
    "        ----------\n",
    "        n_inputs : int\n",
    "            Number of input features.\n",
    "\n",
    "        n_hidden : int\n",
    "            Number of hidden features.\n",
    "\n",
    "        predict_sequence : bool, default=False\n",
    "            Whether a sequence or a single element is returned as output.\n",
    "\n",
    "        Attributes\n",
    "        ----------\n",
    "        input_weights : numpy.ndarray\n",
    "            Matrix of input weight coefficients.\n",
    "\n",
    "        hidden_weights : numpy.ndarray\n",
    "            Matrix of hidden weight coefficients.\n",
    "\n",
    "        input_bias : numpy.ndaray\n",
    "            Vector of input bias coefficients.\n",
    "        \"\"\"\n",
    "        self.predict_sequence = predict_sequence\n",
    "\n",
    "        # Initialize parameters\n",
    "        k = 1 / np.sqrt(n_hidden)\n",
    "        self.n_hidden = n_hidden\n",
    "        self.input_weights = np.random.uniform(-k, k, (n_inputs, n_hidden))\n",
    "        self.hidden_weights = np.random.uniform(-k, k, (n_hidden, n_hidden))\n",
    "        self.input_bias = np.random.uniform(-k, k, (n_hidden))\n",
    "      \n",
    "    def forward(self, inputs: np.ndarray) -> None:\n",
    "        \"\"\"\n",
    "        Forward pass using the recurrent layer. Creates hidden states and output attributes.\n",
    "\n",
    "        Parameters\n",
    "        ----------\n",
    "        inputs : numpy.ndarray\n",
    "            Input matrix.\n",
    "\n",
    "        Returns\n",
    "        -------\n",
    "        None\n",
    "        \"\"\"\n",
    "        # Store inputs for backpropagation\n",
    "        self.inputs = inputs\n",
    "\n",
    "        # Store number of samples\n",
    "        self.n_samples = inputs.shape[0]\n",
    "\n",
    "        # Store sequence length\n",
    "        self.sequence_length = inputs.shape[1]\n",
    "\n",
    "        # Initialize output\n",
    "        if self.predict_sequence:\n",
    "            self.output = np.zeros((self.n_samples, self.sequence_length, self.n_hidden))\n",
    "        else:\n",
    "            self.output = np.zeros((self.n_samples, self.n_hidden))\n",
    "\n",
    "        # Initialize hidden states\n",
    "        self.hidden_states = np.zeros((self.n_samples, self.sequence_length, self.n_hidden))\n",
    "\n",
    "        # Loop through sequences\n",
    "        for i, sequence in enumerate(inputs):\n",
    "\n",
    "            # Loop through elements of sequence\n",
    "            for j, x in enumerate(sequence):\n",
    "\n",
    "                # Predict current hidden state\n",
    "                hidden_t = self._forward_step(x, i, j)\n",
    "\n",
    "                # Store hidden state for the current sequence and sequence element\n",
    "                self.hidden_states[i, j] = hidden_t.copy()\n",
    "\n",
    "            if self.predict_sequence:\n",
    "                # Hidden states of the current sequence are the predicted sequence\n",
    "                self.output[i] = self.hidden_states[i].copy()\n",
    "            else:\n",
    "                # Last hidden state of the current sequence is the predicted element\n",
    "                self.output[i] = self.hidden_states[i, -1].copy()\n",
    "\n",
    "    def backward(self, delta: np.ndarray) -> None:\n",
    "        \"\"\"\n",
    "        Backward pass using the recurrent layer. \n",
    "        Creates gradient attributes with respect to input weights, hidden weights, input bias, and inputs.\n",
    "\n",
    "        Parameters\n",
    "        ----------\n",
    "        delta : np.ndarray\n",
    "            Accumulated gradient obtained by backpropagation.\n",
    "\n",
    "        Returns\n",
    "        -------\n",
    "        None\n",
    "        \"\"\"\n",
    "        # Initialize gradient attributes\n",
    "        self.dinput_weights = np.zeros_like(self.input_weights)\n",
    "        self.dhidden_weights = np.zeros_like(self.hidden_weights)\n",
    "        self.dinput_bias = np.zeros_like(self.input_bias)\n",
    "        self.dinputs = np.zeros_like(self.inputs, dtype=np.float64)\n",
    "\n",
    "        # Loop through sequences\n",
    "        for i in range(self.n_samples - 1, -1, -1):\n",
    "\n",
    "            # Initialize next hidden gradient for the current sequence\n",
    "            next_hidden_gradient = None\n",
    "\n",
    "            # Loop through elements of the sequence in reversed order\n",
    "            for j in range(self.sequence_length - 1, -1, -1):\n",
    "\n",
    "                if len(delta.shape) == 2:\n",
    "                    loss_gradient = delta[i].reshape(1, -1)\n",
    "                    next_hidden_gradient = self._backward_step(loss_gradient, next_hidden_gradient, i, j)\n",
    "\n",
    "                elif len(delta.shape) == 3:\n",
    "                    loss_gradient = delta[i, j].reshape(1, -1)\n",
    "                    next_hidden_gradient = self._backward_step(loss_gradient, next_hidden_gradient, i, j)\n",
    "\n",
    "    def _forward_step(self, x: np.ndarray, sequence_idx: int, element_idx: int) -> np.ndarray:\n",
    "        \"\"\"\n",
    "        Helper method used in forward pass of a single element. Computes hidden state.\n",
    "\n",
    "        Parameters\n",
    "        ----------\n",
    "        x : np.ndarray\n",
    "            Input element.\n",
    "\n",
    "        sequence_idx : int\n",
    "            Index of the sequence from input array.\n",
    "\n",
    "        element_idx : int\n",
    "            Index of the element from sequence.\n",
    "\n",
    "        Returns\n",
    "        -------\n",
    "        hidden_state : np.ndarray\n",
    "        \"\"\"\n",
    "\n",
    "        i, j = sequence_idx, element_idx\n",
    "\n",
    "        # Reshape to match dimensions\n",
    "        x = x.reshape(1, -1)\n",
    "\n",
    "        input_x = np.dot(x, self.input_weights)\n",
    "\n",
    "        hidden_state = input_x + np.dot(self.hidden_states[i, max(j-1, 0)], self.hidden_weights) + self.input_bias\n",
    "\n",
    "        # Activation function\n",
    "        hidden_state = np.tanh(hidden_state)\n",
    "\n",
    "        return hidden_state\n",
    "    \n",
    "    def _backward_step(self, delta: np.ndarray, next_hidden_gradient: np.ndarray, sequence_idx: int, element_idx: int) -> np.ndarray:\n",
    "        \"\"\"\n",
    "        Helper method used in backward pass of a single element. Computes next hidden gradient.\n",
    "\n",
    "        Parameters\n",
    "        ----------\n",
    "        delta : np.ndarray\n",
    "            Accumulated gradient obtained by backpropagation.\n",
    "\n",
    "        next_hidden_gradient : np.ndarray\n",
    "            Gradient used to compute current hidden gradient.\n",
    "\n",
    "        sequence_idx : int\n",
    "            Index of the sequence from input array.\n",
    "\n",
    "        element_idx : int\n",
    "            Index of the element from sequence.\n",
    "\n",
    "        Returns\n",
    "        -------\n",
    "        next_hidden_gradient : np.ndarray\n",
    "        \"\"\"\n",
    "\n",
    "        i, j = sequence_idx, element_idx\n",
    "\n",
    "        hidden_gradient = delta.copy()\n",
    "        if next_hidden_gradient is not None:\n",
    "            hidden_gradient += np.dot(next_hidden_gradient, self.hidden_weights)\n",
    "\n",
    "        dtanh = 1 - self.hidden_states[i, j]**2\n",
    "        hidden_gradient *= dtanh\n",
    "\n",
    "        next_hidden_gradient = hidden_gradient.copy()\n",
    "\n",
    "        if j > 0:\n",
    "            self.dhidden_weights += np.dot(self.hidden_states[i, j-1].reshape(-1, 1), hidden_gradient)\n",
    "\n",
    "        self.dinput_weights += np.dot(self.inputs[i, j].reshape(-1, 1), hidden_gradient)\n",
    "        self.dinput_bias += hidden_gradient.reshape(-1)\n",
    "        \n",
    "        self.dinputs[i, j] += np.dot(self.input_weights, hidden_gradient.T).reshape(-1)\n",
    "\n",
    "        return next_hidden_gradient\n",
    "\n",
    "class RNN:\n",
    "\n",
    "    def __init__(self, n_inputs: int, n_hidden: int, n_layers: int = 1, predict_sequence: bool = False) -> None:\n",
    "        \"\"\"\n",
    "        Recurrent neural network. Takes 3D arrays of shape (n_samples, n_timestamps, n_features) as input.\n",
    "\n",
    "        Parameters\n",
    "        ----------\n",
    "        n_inputs : int\n",
    "            Number of input features.\n",
    "\n",
    "        n_hidden : int\n",
    "            Number of hidden features.\n",
    "\n",
    "        n_layers : int, default=1\n",
    "            Number of recurrent layers.\n",
    "\n",
    "        predict_sequence : bool, default=False\n",
    "            Whether a sequence or a single element is returned as output.\n",
    "\n",
    "        Attributes\n",
    "        ----------\n",
    "        recurrent_layers : list[RecurrentLayer]\n",
    "            List containing recurrent layers.\n",
    "        \"\"\"\n",
    "        if n_layers == 1:\n",
    "            self.recurrent_layers = [RecurrentLayer(n_inputs, n_hidden, predict_sequence)]\n",
    "        else:\n",
    "            self.recurrent_layers = [RecurrentLayer(n_inputs, n_hidden)]\n",
    "            if predict_sequence:\n",
    "                for i in range(n_layers - 1):\n",
    "                    if i == n_layers - 2:\n",
    "                        self.recurrent_layers.append(RecurrentLayer(n_hidden, n_hidden, predict_sequence=True))\n",
    "                    else:\n",
    "                        self.recurrent_layers.append(RecurrentLayer(n_hidden, n_hidden))\n",
    "            else:\n",
    "                for i in range(n_layers - 1):\n",
    "                    self.recurrent_layers.append(RecurrentLayer(n_hidden, n_hidden))\n",
    "\n",
    "    def forward(self, inputs: np.ndarray) -> None:\n",
    "        \"\"\"\n",
    "        Forward pass using the RNN. Creates output attribute.\n",
    "\n",
    "        Parameters\n",
    "        ----------\n",
    "        inputs : numpy.ndarray\n",
    "            Input matrix.\n",
    "\n",
    "        Returns\n",
    "        -------\n",
    "        None\n",
    "        \"\"\"\n",
    "        # Pass data to the first recurrent layer\n",
    "        self.recurrent_layers[0].forward(inputs)\n",
    "\n",
    "        # Forward hidden states of the previous recurrent layer to the current one\n",
    "        for idx, layer in enumerate(self.recurrent_layers[1:], start=1):\n",
    "            layer.forward(self.recurrent_layers[idx - 1].hidden_states)\n",
    "\n",
    "        # Output of the RNN is the final recurrent layer's output\n",
    "        self.output = self.recurrent_layers[-1].output.copy()\n",
    "\n",
    "    def backward(self, delta: np.ndarray) -> None:\n",
    "        \"\"\"\n",
    "        Backward pass using the RNN.\n",
    "\n",
    "        Parameters\n",
    "        ----------\n",
    "        delta : np.ndarray\n",
    "            Accumulated gradient obtained by backpropagation.\n",
    "\n",
    "        Returns\n",
    "        -------\n",
    "        None\n",
    "        \"\"\"\n",
    "        # Pass gradient to the final recurrent layer\n",
    "        self.recurrent_layers[-1].backward(delta)\n",
    "\n",
    "        # Backpropagate gradient\n",
    "        for idx, layer in reversed(list(enumerate(self.recurrent_layers[:-1]))):\n",
    "            layer.backward(self.recurrent_layers[idx + 1].dinputs)"
   ]
  },
  {
   "cell_type": "code",
   "execution_count": 3,
   "metadata": {},
   "outputs": [],
   "source": [
    "def convert_data_to_sequence(X, y, sequence_length, predict_sequence=False):\n",
    "    X_new = []\n",
    "    y_new = []\n",
    "\n",
    "    if predict_sequence:\n",
    "        for i in range(len(X) - sequence_length):\n",
    "            X_new.append(X[i:i+sequence_length, :])\n",
    "            y_new.append(y[i:i+sequence_length])\n",
    "    else:\n",
    "        for i in range(len(X) - sequence_length):\n",
    "            X_new.append(X[i:i+sequence_length, :])\n",
    "            y_new.append(y[i+sequence_length])\n",
    "\n",
    "    X_new, y_new = np.array(X_new), np.array(y_new)\n",
    "\n",
    "    return X_new, y_new"
   ]
  },
  {
   "cell_type": "code",
   "execution_count": 4,
   "metadata": {},
   "outputs": [
    {
     "data": {
      "text/html": [
       "<div>\n",
       "<style scoped>\n",
       "    .dataframe tbody tr th:only-of-type {\n",
       "        vertical-align: middle;\n",
       "    }\n",
       "\n",
       "    .dataframe tbody tr th {\n",
       "        vertical-align: top;\n",
       "    }\n",
       "\n",
       "    .dataframe thead th {\n",
       "        text-align: right;\n",
       "    }\n",
       "</style>\n",
       "<table border=\"1\" class=\"dataframe\">\n",
       "  <thead>\n",
       "    <tr style=\"text-align: right;\">\n",
       "      <th></th>\n",
       "      <th>date</th>\n",
       "      <th>tmax</th>\n",
       "      <th>tmin</th>\n",
       "      <th>rain</th>\n",
       "      <th>tmax_tomorrow</th>\n",
       "    </tr>\n",
       "  </thead>\n",
       "  <tbody>\n",
       "    <tr>\n",
       "      <th>0</th>\n",
       "      <td>1970-01-01</td>\n",
       "      <td>60.0</td>\n",
       "      <td>35.0</td>\n",
       "      <td>0.00</td>\n",
       "      <td>52.0</td>\n",
       "    </tr>\n",
       "    <tr>\n",
       "      <th>1</th>\n",
       "      <td>1970-01-02</td>\n",
       "      <td>52.0</td>\n",
       "      <td>39.0</td>\n",
       "      <td>0.00</td>\n",
       "      <td>52.0</td>\n",
       "    </tr>\n",
       "    <tr>\n",
       "      <th>2</th>\n",
       "      <td>1970-01-03</td>\n",
       "      <td>52.0</td>\n",
       "      <td>35.0</td>\n",
       "      <td>0.00</td>\n",
       "      <td>53.0</td>\n",
       "    </tr>\n",
       "    <tr>\n",
       "      <th>3</th>\n",
       "      <td>1970-01-04</td>\n",
       "      <td>53.0</td>\n",
       "      <td>36.0</td>\n",
       "      <td>0.00</td>\n",
       "      <td>52.0</td>\n",
       "    </tr>\n",
       "    <tr>\n",
       "      <th>4</th>\n",
       "      <td>1970-01-05</td>\n",
       "      <td>52.0</td>\n",
       "      <td>35.0</td>\n",
       "      <td>0.00</td>\n",
       "      <td>50.0</td>\n",
       "    </tr>\n",
       "    <tr>\n",
       "      <th>5</th>\n",
       "      <td>1970-01-06</td>\n",
       "      <td>50.0</td>\n",
       "      <td>38.0</td>\n",
       "      <td>0.00</td>\n",
       "      <td>52.0</td>\n",
       "    </tr>\n",
       "    <tr>\n",
       "      <th>6</th>\n",
       "      <td>1970-01-07</td>\n",
       "      <td>52.0</td>\n",
       "      <td>43.0</td>\n",
       "      <td>0.00</td>\n",
       "      <td>56.0</td>\n",
       "    </tr>\n",
       "    <tr>\n",
       "      <th>7</th>\n",
       "      <td>1970-01-08</td>\n",
       "      <td>56.0</td>\n",
       "      <td>49.0</td>\n",
       "      <td>0.24</td>\n",
       "      <td>54.0</td>\n",
       "    </tr>\n",
       "    <tr>\n",
       "      <th>8</th>\n",
       "      <td>1970-01-09</td>\n",
       "      <td>54.0</td>\n",
       "      <td>50.0</td>\n",
       "      <td>0.40</td>\n",
       "      <td>57.0</td>\n",
       "    </tr>\n",
       "    <tr>\n",
       "      <th>9</th>\n",
       "      <td>1970-01-10</td>\n",
       "      <td>57.0</td>\n",
       "      <td>50.0</td>\n",
       "      <td>0.00</td>\n",
       "      <td>57.0</td>\n",
       "    </tr>\n",
       "  </tbody>\n",
       "</table>\n",
       "</div>"
      ],
      "text/plain": [
       "         date  tmax  tmin  rain  tmax_tomorrow\n",
       "0  1970-01-01  60.0  35.0  0.00           52.0\n",
       "1  1970-01-02  52.0  39.0  0.00           52.0\n",
       "2  1970-01-03  52.0  35.0  0.00           53.0\n",
       "3  1970-01-04  53.0  36.0  0.00           52.0\n",
       "4  1970-01-05  52.0  35.0  0.00           50.0\n",
       "5  1970-01-06  50.0  38.0  0.00           52.0\n",
       "6  1970-01-07  52.0  43.0  0.00           56.0\n",
       "7  1970-01-08  56.0  49.0  0.24           54.0\n",
       "8  1970-01-09  54.0  50.0  0.40           57.0\n",
       "9  1970-01-10  57.0  50.0  0.00           57.0"
      ]
     },
     "execution_count": 4,
     "metadata": {},
     "output_type": "execute_result"
    }
   ],
   "source": [
    "import pandas as pd\n",
    "\n",
    "data = pd.read_csv('clean_weather.csv', names=['date', 'tmax', 'tmin', 'rain', 'tmax_tomorrow'], header=0)\n",
    "data.head(10)"
   ]
  },
  {
   "cell_type": "code",
   "execution_count": 5,
   "metadata": {},
   "outputs": [
    {
     "name": "stdout",
     "output_type": "stream",
     "text": [
      "X: (13509, 3)\n",
      "y: (13509,)\n"
     ]
    }
   ],
   "source": [
    "FEATURES = ['tmax', 'tmin', 'rain']\n",
    "TARGET = 'tmax_tomorrow'\n",
    "\n",
    "X = data[FEATURES].to_numpy()\n",
    "y = data[TARGET].to_numpy()\n",
    "\n",
    "print(f'X: {X.shape}')\n",
    "print(f'y: {y.shape}')"
   ]
  },
  {
   "cell_type": "code",
   "execution_count": 6,
   "metadata": {},
   "outputs": [
    {
     "name": "stdout",
     "output_type": "stream",
     "text": [
      "X_train: (4052, 3), y_train: (4052,)\n",
      "X_test: (9457, 3), y_test: (9457,)\n"
     ]
    }
   ],
   "source": [
    "from sklearn.preprocessing import StandardScaler\n",
    "\n",
    "threshold = 0.3\n",
    "\n",
    "X_train = X[:int(threshold*len(X)),:].copy()\n",
    "y_train = y[:int(threshold*len(X))].copy()\n",
    "\n",
    "X_test = X[int(threshold*len(X)):,:].copy()\n",
    "y_test = y[int(threshold*len(X)):].copy()\n",
    "\n",
    "scaler = StandardScaler()\n",
    "X_train = scaler.fit_transform(X_train)\n",
    "X_test = scaler.transform(X_test)\n",
    "\n",
    "print(f'X_train: {X_train.shape}, y_train: {y_train.shape}')\n",
    "print(f'X_test: {X_test.shape}, y_test: {y_test.shape}')"
   ]
  },
  {
   "cell_type": "markdown",
   "metadata": {},
   "source": [
    "# One to one RNN"
   ]
  },
  {
   "cell_type": "code",
   "execution_count": 7,
   "metadata": {},
   "outputs": [
    {
     "name": "stdout",
     "output_type": "stream",
     "text": [
      "X_train_one: (4051, 1, 3), y_train_one: (4051, 1)\n",
      "X_test_one: (9456, 1, 3), y_test_one: (9456, 1)\n"
     ]
    }
   ],
   "source": [
    "seq_len = 1\n",
    "\n",
    "X_train_one, y_train_one = convert_data_to_sequence(X_train, y_train.reshape(-1, 1), seq_len)\n",
    "X_test_one, y_test_one = convert_data_to_sequence(X_test, y_test.reshape(-1, 1), seq_len)\n",
    "\n",
    "print(f'X_train_one: {X_train_one.shape}, y_train_one: {y_train_one.shape}')\n",
    "print(f'X_test_one: {X_test_one.shape}, y_test_one: {y_test_one.shape}')"
   ]
  },
  {
   "cell_type": "code",
   "execution_count": 8,
   "metadata": {},
   "outputs": [
    {
     "name": "stdout",
     "output_type": "stream",
     "text": [
      "===== EPOCH : 0 ===== LOSS : 73.60776004428513 =====\n",
      "===== EPOCH : 10 ===== LOSS : 15.776029278875658 =====\n",
      "===== EPOCH : 20 ===== LOSS : 15.569918778861593 =====\n",
      "===== EPOCH : 30 ===== LOSS : 15.526936706949586 =====\n",
      "===== EPOCH : 40 ===== LOSS : 15.5052388477171 =====\n",
      "===== EPOCH : 50 ===== LOSS : 15.482486155398592 =====\n"
     ]
    }
   ],
   "source": [
    "from dlfs import Model\n",
    "from dlfs.loss import MSE_Loss\n",
    "from dlfs.optimizers import Optimizer_SGD\n",
    "from dlfs.layers import RNN, DenseLayer\n",
    "\n",
    "np.random.seed(0)\n",
    "\n",
    "layers = [RNN(3, 4),\n",
    "          DenseLayer(4, 1)]\n",
    "lr = 1e-4\n",
    "\n",
    "model = Model(layers=layers, loss_function=MSE_Loss(), optimizer=Optimizer_SGD(learning_rate=lr))\n",
    "model.train(X_train_one, y_train_one, epochs=50, batch_size=1, print_every=10)"
   ]
  },
  {
   "cell_type": "code",
   "execution_count": 12,
   "metadata": {},
   "outputs": [
    {
     "name": "stdout",
     "output_type": "stream",
     "text": [
      "[[71.28165643]]\n",
      "[71.]\n",
      "Sample loss: 0.03966517166337458\n"
     ]
    }
   ],
   "source": [
    "from random import randint\n",
    "\n",
    "idx = randint(0, len(X_test_one))\n",
    "sample = X_test_one[idx].reshape(1, *X_test_one[0].shape)\n",
    "y_pred = model.predict(sample)\n",
    "print(y_pred)\n",
    "print(y_test_one[idx])\n",
    "print(f'Sample loss: {model.loss_function.calculate(y_pred.reshape(-1), y_test_one[idx])}')"
   ]
  },
  {
   "cell_type": "code",
   "execution_count": 16,
   "metadata": {},
   "outputs": [
    {
     "name": "stdout",
     "output_type": "stream",
     "text": [
      "Sequence loss: 17.26914336631096\n"
     ]
    },
    {
     "data": {
      "image/png": "[encoded data removed]",
      "text/plain": [
       "<Figure size 640x480 with 1 Axes>"
      ]
     },
     "metadata": {},
     "output_type": "display_data"
    }
   ],
   "source": [
    "n_samples = 20\n",
    "x = np.array([x for x in range(n_samples)])\n",
    "\n",
    "rand_idx = randint(0, len(X_test_one) - n_samples)\n",
    "y_true = y_test_one[rand_idx:rand_idx+n_samples]\n",
    "\n",
    "x_pred = X_test_one[rand_idx:rand_idx+n_samples]\n",
    "y_pred = model.predict(x_pred)\n",
    "print(f'Sequence loss: {model.loss_function.calculate(y_pred.reshape(-1), y_true)}')\n",
    "\n",
    "plt.plot(x, y_true, color='blue', label=\"True\")\n",
    "plt.plot(x, y_pred, color=\"red\", label=\"Prediction\")\n",
    "plt.xlabel('Timestamps')\n",
    "plt.ylabel('Temperature')\n",
    "plt.legend()\n",
    "plt.show()"
   ]
  },
  {
   "cell_type": "markdown",
   "metadata": {},
   "source": [
    "# Many to one RNN"
   ]
  },
  {
   "cell_type": "code",
   "execution_count": 17,
   "metadata": {},
   "outputs": [
    {
     "name": "stdout",
     "output_type": "stream",
     "text": [
      "X_train_seq: (4042, 10, 3), y_train_seq: (4042, 1)\n",
      "X_test_seq: (9447, 10, 3), y_test_seq: (9447, 1)\n"
     ]
    }
   ],
   "source": [
    "seq_len = 10\n",
    "\n",
    "X_train_seq, y_train_seq = convert_data_to_sequence(X_train, y_train.reshape(-1, 1), seq_len)\n",
    "X_test_seq, y_test_seq = convert_data_to_sequence(X_test, y_test.reshape(-1, 1), seq_len)\n",
    "\n",
    "print(f'X_train_seq: {X_train_seq.shape}, y_train_seq: {y_train_seq.shape}')\n",
    "print(f'X_test_seq: {X_test_seq.shape}, y_test_seq: {y_test_seq.shape}')"
   ]
  },
  {
   "cell_type": "code",
   "execution_count": 18,
   "metadata": {},
   "outputs": [
    {
     "name": "stdout",
     "output_type": "stream",
     "text": [
      "===== EPOCH : 0 ===== LOSS : 65.17251758526047 =====\n",
      "===== EPOCH : 10 ===== LOSS : 19.798389801511455 =====\n",
      "===== EPOCH : 20 ===== LOSS : 17.95554955909664 =====\n",
      "===== EPOCH : 30 ===== LOSS : 17.825253664856238 =====\n",
      "===== EPOCH : 40 ===== LOSS : 18.232471799209836 =====\n",
      "===== EPOCH : 50 ===== LOSS : 17.869478840883886 =====\n"
     ]
    }
   ],
   "source": [
    "np.random.seed(0)\n",
    "\n",
    "layers = [RNN(3, 4), \n",
    "          DenseLayer(4, 1)]\n",
    "\n",
    "lr = 1e-4\n",
    "\n",
    "model = Model(layers=layers, loss_function=MSE_Loss(), optimizer=Optimizer_SGD(learning_rate=lr))\n",
    "model.train(X_train_seq, y_train_seq, epochs=50, batch_size=1, print_every=10)"
   ]
  },
  {
   "cell_type": "code",
   "execution_count": 25,
   "metadata": {},
   "outputs": [
    {
     "name": "stdout",
     "output_type": "stream",
     "text": [
      "[[69.60634881]]\n",
      "[63.]\n",
      "Sample loss: 21.821922330903732\n"
     ]
    }
   ],
   "source": [
    "from random import randint\n",
    "\n",
    "idx = randint(0, len(X_test_seq))\n",
    "sample = X_test_seq[idx].reshape(1, *X_test_seq[0].shape)\n",
    "y_pred = model.predict(sample)\n",
    "print(y_pred)\n",
    "print(y_test_seq[idx])\n",
    "print(f'Sample loss: {model.loss_function.calculate(y_pred.reshape(-1), y_test_seq[idx])}')"
   ]
  },
  {
   "cell_type": "code",
   "execution_count": 47,
   "metadata": {},
   "outputs": [
    {
     "name": "stdout",
     "output_type": "stream",
     "text": [
      "Predicted: [70.32193949]\n",
      "True: [71.]\n",
      "Sample loss: 0.22988302487312262\n"
     ]
    },
    {
     "data": {
      "image/png": "[encoded data removed]",
      "text/plain": [
       "<Figure size 640x480 with 1 Axes>"
      ]
     },
     "metadata": {},
     "output_type": "display_data"
    }
   ],
   "source": [
    "timestamps = 11\n",
    "x = np.array([x for x in range(timestamps)])\n",
    "\n",
    "rand_idx = randint(0, len(X_test_seq) - timestamps)\n",
    "y_true_one = y_test_seq[rand_idx]\n",
    "\n",
    "x_pred = X_test_seq[rand_idx].reshape(1, *X_test_seq[0].shape)\n",
    "y_pred_one = model.predict(x_pred).reshape(-1)\n",
    "\n",
    "print(f'Predicted: {y_pred_one}')\n",
    "print(f'True: {y_true_one}')\n",
    "print(f'Sample loss: {model.loss_function.calculate(y_pred_one, y_true_one)}')\n",
    "\n",
    "y_true = y_test_seq[rand_idx-timestamps+1:rand_idx+1]\n",
    "y_pred = list(y_true.copy())\n",
    "y_pred.pop()\n",
    "y_pred.append(y_pred_one)\n",
    "y_pred = np.array(y_pred)\n",
    "\n",
    "plt.plot(x, y_true, color='blue', label=\"True\")\n",
    "plt.plot(x, y_pred, color=\"red\", label=\"Prediction\")\n",
    "plt.xlabel('Timestamps')\n",
    "plt.ylabel('Temperature')\n",
    "plt.legend()\n",
    "plt.show()"
   ]
  },
  {
   "cell_type": "markdown",
   "metadata": {},
   "source": [
    "# Many to many RNN"
   ]
  },
  {
   "cell_type": "code",
   "execution_count": 51,
   "metadata": {},
   "outputs": [
    {
     "name": "stdout",
     "output_type": "stream",
     "text": [
      "X_train_seq: (4037, 15, 3), y_train_seq: (4037, 15, 1)\n",
      "X_test_seq: (9442, 15, 3), y_test_seq: (9442, 15, 1)\n"
     ]
    }
   ],
   "source": [
    "seq_len = 15\n",
    "\n",
    "X_train_seq, y_train_seq = convert_data_to_sequence(X_train, y_train.reshape(-1, 1), seq_len, predict_sequence=True)\n",
    "X_test_seq, y_test_seq = convert_data_to_sequence(X_test, y_test.reshape(-1, 1), seq_len, predict_sequence=True)\n",
    "\n",
    "print(f'X_train_seq: {X_train_seq.shape}, y_train_seq: {y_train_seq.shape}')\n",
    "print(f'X_test_seq: {X_test_seq.shape}, y_test_seq: {y_test_seq.shape}')"
   ]
  },
  {
   "cell_type": "code",
   "execution_count": 53,
   "metadata": {},
   "outputs": [
    {
     "name": "stdout",
     "output_type": "stream",
     "text": [
      "===== EPOCH : 0 ===== LOSS : 20.419497041838234 =====\n",
      "===== EPOCH : 10 ===== LOSS : 16.278990242518535 =====\n",
      "===== EPOCH : 20 ===== LOSS : 16.286067347786812 =====\n",
      "===== EPOCH : 30 ===== LOSS : 16.619862454794713 =====\n",
      "===== EPOCH : 40 ===== LOSS : 16.167877868062078 =====\n",
      "===== EPOCH : 50 ===== LOSS : 16.057237926959427 =====\n"
     ]
    }
   ],
   "source": [
    "np.random.seed(0)\n",
    "\n",
    "layers = [RNN(3, 4, predict_sequence=True), \n",
    "          DenseLayer(4, 1)]\n",
    "\n",
    "lr = 1e-4\n",
    "\n",
    "model = Model(layers=layers, loss_function=MSE_Loss(), optimizer=Optimizer_SGD(learning_rate=lr))\n",
    "model.train(X_train_seq, y_train_seq, epochs=50, batch_size=32, print_every=10)"
   ]
  },
  {
   "cell_type": "code",
   "execution_count": 59,
   "metadata": {},
   "outputs": [
    {
     "name": "stdout",
     "output_type": "stream",
     "text": [
      "[71.6727752  71.67462447 71.67462447 71.67462447 71.67462447 71.67462447\n",
      " 71.67462447 71.67462447 71.67462447 71.67462447 71.67462447 71.67462447\n",
      " 71.67462447 71.67462447 71.67462447]\n",
      "[78. 68. 75. 75. 67. 71. 74. 72. 69. 74. 70. 79. 85. 87. 67.]\n",
      "Sequence loss: 20.226157308488744\n"
     ]
    }
   ],
   "source": [
    "idx = randint(0, len(X_test_seq))\n",
    "sample = X_test_seq[idx].reshape(1, *X_test_seq[0].shape)\n",
    "y_pred = model.predict(sample)\n",
    "print(y_pred.reshape(-1))\n",
    "print(y_test_seq[idx].reshape(-1))\n",
    "print(f'Sequence loss: {model.loss_function.calculate(y_pred.reshape(-1), y_test_seq[idx].reshape(-1))}')"
   ]
  },
  {
   "cell_type": "code",
   "execution_count": 69,
   "metadata": {},
   "outputs": [
    {
     "name": "stdout",
     "output_type": "stream",
     "text": [
      "Sequence loss: 23.166531463202876\n"
     ]
    },
    {
     "data": {
      "image/png": "[encoded data removed]",
      "text/plain": [
       "<Figure size 640x480 with 1 Axes>"
      ]
     },
     "metadata": {},
     "output_type": "display_data"
    }
   ],
   "source": [
    "timestamps = 15\n",
    "x = np.array([x for x in range(timestamps)])\n",
    "\n",
    "rand_idx = randint(0, len(X_test_seq))\n",
    "y_true = y_test_seq[rand_idx]\n",
    "\n",
    "x_pred = X_test_seq[rand_idx].reshape(1, *X_test_seq[0].shape)\n",
    "y_pred = model.predict(x_pred).flatten()\n",
    "print(f'Sequence loss: {model.loss_function.calculate(y_pred.reshape(-1), y_true.reshape(-1))}')\n",
    "\n",
    "plt.plot(x, y_true, color='blue', label=\"True\")\n",
    "plt.plot(x, y_pred, color=\"red\", label=\"Prediction\")\n",
    "plt.xlabel('Timestamps')\n",
    "plt.ylabel('Temperature')\n",
    "plt.legend()\n",
    "plt.show()"
   ]
  }
 ],
 "metadata": {
  "kernelspec": {
   "display_name": "Python_venv",
   "language": "python",
   "name": "python3"
  },
  "language_info": {
   "codemirror_mode": {
    "name": "ipython",
    "version": 3
   },
   "file_extension": ".py",
   "mimetype": "text/x-python",
   "name": "python",
   "nbconvert_exporter": "python",
   "pygments_lexer": "ipython3",
   "version": "3.10.12"
  }
 },
 "nbformat": 4,
 "nbformat_minor": 2
}
