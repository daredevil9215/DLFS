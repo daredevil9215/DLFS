{
 "cells": [
  {
   "cell_type": "code",
   "execution_count": 546,
   "metadata": {},
   "outputs": [],
   "source": [
    "import numpy as np\n",
    "import matplotlib.pyplot as plt\n",
    "from scipy import signal"
   ]
  },
  {
   "cell_type": "code",
   "execution_count": 547,
   "metadata": {},
   "outputs": [],
   "source": [
    "def convolve2d(matrix, kernel, type='valid'):\n",
    "    \"\"\"\n",
    "    isto kao cross_correlate, samo se kernel rotira 180\n",
    "    \"\"\"\n",
    "    # Get the dimensions of the input matrix and kernel\n",
    "    m, n = matrix.shape\n",
    "    km, kn = kernel.shape\n",
    "\n",
    "    if type == 'valid':\n",
    "    \n",
    "        # Calculate the dimensions of the output matrix\n",
    "        output_dim_m = m - km + 1\n",
    "        output_dim_n = n - kn + 1\n",
    "        output = np.zeros((output_dim_m, output_dim_n))\n",
    "        \n",
    "        # Flip the kernel for convolution\n",
    "        kernel_flipped = np.rot90(kernel, 2) # or kernel_flipped = np.flipud(np.fliplr(kernel))\n",
    "        \n",
    "        # Perform the convolution\n",
    "        for i in range(output_dim_m):\n",
    "            for j in range(output_dim_n):\n",
    "                # Element-wise multiplication and summation\n",
    "                region = matrix[i:i+km, j:j+kn]\n",
    "                output[i, j] = np.sum(region * kernel_flipped)\n",
    "        \n",
    "        return output\n",
    "    \n",
    "    elif type == 'full':\n",
    "\n",
    "        output_dim_m = m + km - 1\n",
    "        output_dim_n = n + kn - 1\n",
    "        output = np.zeros((output_dim_m, output_dim_n))\n",
    "\n",
    "        kernel_flipped = np.rot90(kernel, 2)\n",
    "\n",
    "        padded_matrix = np.pad(matrix, ((km - 1, km - 1), (kn - 1, kn - 1)), mode='constant')\n",
    "\n",
    "        for i in range(output_dim_m):\n",
    "            for j in range(output_dim_n):\n",
    "                region = padded_matrix[i:i+km, j:j+kn]\n",
    "                output[i, j] = np.sum(region * kernel_flipped)\n",
    "\n",
    "        return output\n",
    "\n",
    "def cross_correlate2d(matrix, kernel, type='valid'): \n",
    "    \"\"\"\n",
    "    OVO RADI\n",
    "\n",
    "    dimenzija rezultata = dim_input - dim_kernel + 1\n",
    "    Y = I - K + 1\n",
    "\n",
    "    slidea kernel po regijama matrice velicine kernela, mnoze se elementi i zbrajaju\n",
    "\n",
    "    valid - krece se u granicama matrice, od ruba do ruba, dimenzija je Y = I - K + 1\n",
    "\n",
    "    full - izlazi van granica matrice, treba paddati matricu s nulama, Y = I + K - 1\n",
    "    \"\"\"\n",
    "    # Get the dimensions of the input matrix and kernel\n",
    "    m, n = matrix.shape\n",
    "    km, kn = kernel.shape\n",
    "\n",
    "    if type == 'valid':\n",
    "        \n",
    "        # Calculate the dimensions of the output matrix\n",
    "        output_dim_m = m - km + 1\n",
    "        output_dim_n = n - kn + 1\n",
    "        output = np.zeros((output_dim_m, output_dim_n))\n",
    "        \n",
    "        # Perform the cross-correlation\n",
    "        for i in range(output_dim_m):\n",
    "            for j in range(output_dim_n):\n",
    "                # Element-wise multiplication and summation\n",
    "                region = matrix[i:i+km, j:j+kn]\n",
    "                output[i, j] = np.sum(region * kernel)\n",
    "        \n",
    "        return output\n",
    "    \n",
    "    elif type == 'full':\n",
    "        \n",
    "        # Calculate the dimensions of the output matrix\n",
    "        output_dim_m = m + km - 1\n",
    "        output_dim_n = n + kn - 1\n",
    "        output = np.zeros((output_dim_m, output_dim_n))\n",
    "        \n",
    "        # Pad the input matrix with zeros\n",
    "        padded_matrix = np.pad(matrix, ((km-1, km-1), (kn-1, kn-1)), mode='constant')\n",
    "\n",
    "        # Perform the cross-correlation\n",
    "        for i in range(output_dim_m):\n",
    "            for j in range(output_dim_n):\n",
    "                # Element-wise multiplication and summation\n",
    "                region = padded_matrix[i:i+km, j:j+kn]\n",
    "                output[i, j] = np.sum(region * kernel)\n",
    "        \n",
    "        return output\n",
    "        "
   ]
  },
  {
   "cell_type": "markdown",
   "metadata": {},
   "source": [
    "# Cross Correlate"
   ]
  },
  {
   "cell_type": "code",
   "execution_count": 548,
   "metadata": {},
   "outputs": [
    {
     "name": "stdout",
     "output_type": "stream",
     "text": [
      "[[8. 7.]\n",
      " [4. 5.]]\n",
      "[[8 7]\n",
      " [4 5]]\n"
     ]
    }
   ],
   "source": [
    "a = np.array([[1, 6, 2],\n",
    "              [5, 3, 1],\n",
    "              [7, 0 ,4]])\n",
    "\n",
    "kernel = np.array([[1, 2],\n",
    "                   [-1, 0]])\n",
    "\n",
    "c = cross_correlate2d(a, kernel)\n",
    "print(c)\n",
    "\n",
    "c = signal.correlate2d(a, kernel, mode='valid')\n",
    "print(c)"
   ]
  },
  {
   "cell_type": "markdown",
   "metadata": {},
   "source": [
    "# Cross Correlate full"
   ]
  },
  {
   "cell_type": "code",
   "execution_count": 549,
   "metadata": {},
   "outputs": [
    {
     "name": "stdout",
     "output_type": "stream",
     "text": [
      "[[ 0. -1. -6. -2.]\n",
      " [ 2.  8.  7.  1.]\n",
      " [10.  4.  5. -3.]\n",
      " [14.  7.  8.  4.]]\n",
      "[[ 0 -1 -6 -2]\n",
      " [ 2  8  7  1]\n",
      " [10  4  5 -3]\n",
      " [14  7  8  4]]\n"
     ]
    }
   ],
   "source": [
    "a = np.array([[1, 6, 2],\n",
    "              [5, 3, 1],\n",
    "              [7, 0 ,4]])\n",
    "\n",
    "kernel = np.array([[1, 2],\n",
    "                   [-1, 0]])\n",
    "\n",
    "c = cross_correlate2d(a, kernel, type='full')\n",
    "print(c)\n",
    "\n",
    "c = signal.correlate2d(a, kernel)\n",
    "print(c)"
   ]
  },
  {
   "cell_type": "markdown",
   "metadata": {},
   "source": [
    "# Convolve"
   ]
  },
  {
   "cell_type": "code",
   "execution_count": 550,
   "metadata": {},
   "outputs": [
    {
     "name": "stdout",
     "output_type": "stream",
     "text": [
      "[[ 7.  5.]\n",
      " [11.  3.]]\n",
      "[[ 7  5]\n",
      " [11  3]]\n"
     ]
    }
   ],
   "source": [
    "a = np.array([[1, 6, 2],\n",
    "              [5, 3, 1],\n",
    "              [7, 0 ,4]])\n",
    "\n",
    "kernel = np.array([[1, 2],\n",
    "                   [-1, 0]])\n",
    "\n",
    "c = convolve2d(a, kernel)\n",
    "print(c)\n",
    "\n",
    "c = signal.convolve2d(a, kernel, mode='valid')\n",
    "print(c)"
   ]
  },
  {
   "cell_type": "markdown",
   "metadata": {},
   "source": [
    "# Convolve full"
   ]
  },
  {
   "cell_type": "code",
   "execution_count": 551,
   "metadata": {},
   "outputs": [
    {
     "name": "stdout",
     "output_type": "stream",
     "text": [
      "[[ 1.  8. 14.  4.]\n",
      " [ 4.  7.  5.  2.]\n",
      " [ 2. 11.  3.  8.]\n",
      " [-7.  0. -4.  0.]]\n",
      "[[ 1  8 14  4]\n",
      " [ 4  7  5  2]\n",
      " [ 2 11  3  8]\n",
      " [-7  0 -4  0]]\n"
     ]
    }
   ],
   "source": [
    "a = np.array([[1, 6, 2],\n",
    "              [5, 3, 1],\n",
    "              [7, 0 ,4]])\n",
    "\n",
    "kernel = np.array([[1, 2],\n",
    "                   [-1, 0]])\n",
    "\n",
    "c = convolve2d(a, kernel, type='full')\n",
    "print(c)\n",
    "\n",
    "c = signal.convolve2d(a, kernel)\n",
    "print(c)"
   ]
  },
  {
   "cell_type": "code",
   "execution_count": 552,
   "metadata": {},
   "outputs": [],
   "source": [
    "class ConvolutionalLayer:\n",
    "\n",
    "    def __init__(self, input_shape, kernel_size, depth) -> None:\n",
    "        input_depth, input_height, input_width = input_shape\n",
    "        self.depth = depth\n",
    "        self.input_shape = input_shape\n",
    "        self.input_depth = input_depth\n",
    "        self.output_shape = (depth, input_height - kernel_size + 1, input_width - kernel_size + 1)\n",
    "        self.kernels_shape = (depth, input_depth, kernel_size, kernel_size)\n",
    "        self.kernels = np.random.randn(*self.kernels_shape)\n",
    "        self.biases = np.random.randn(*self.output_shape)\n",
    "\n",
    "    def forward(self, inputs):\n",
    "        n_samples = inputs.shape[0]\n",
    "        self.inputs = inputs\n",
    "        self.output = np.zeros((n_samples, *self.output_shape))\n",
    "\n",
    "        for i in range(self.depth):\n",
    "            for j in range(self.input_depth):\n",
    "                for k in range(n_samples):\n",
    "                    self.output[k, i] += signal.correlate2d(self.inputs[k, j], self.kernels[i, j], mode=\"valid\")\n",
    "                self.output[i] += self.biases[i]\n",
    "\n",
    "    def backward(self, delta):\n",
    "        self.dkernels = np.zeros(self.kernels.shape)\n",
    "        self.dbiases = np.zeros(self.biases.shape)\n",
    "        self.dinputs = np.zeros(self.inputs.shape)\n",
    "\n",
    "        for i in range(self.depth):\n",
    "            for j in range(self.input_depth):\n",
    "                for k in range(len(self.inputs)):\n",
    "                    self.dkernels[i, j] += signal.correlate2d(self.inputs[k, j], delta[k, j], \"valid\")\n",
    "                    self.dbiases[i] += delta[k, j]\n",
    "                    self.dinputs[k, j] += signal.convolve2d(delta[k, j], self.kernels[i, j], \"full\")\n",
    "             "
   ]
  },
  {
   "cell_type": "code",
   "execution_count": 553,
   "metadata": {},
   "outputs": [],
   "source": [
    "class ReshapeLayer:\n",
    "\n",
    "    def __init__(self, input_shape, output_shape) -> None:\n",
    "        self.input_shape = input_shape\n",
    "        self.output_shape = output_shape\n",
    "\n",
    "    def forward(self, inputs):\n",
    "        self.output = np.reshape(inputs, self.output_shape)\n",
    "\n",
    "    def backward(self, delta):\n",
    "        self.dinputs = np.reshape(delta, self.input_shape)"
   ]
  },
  {
   "cell_type": "code",
   "execution_count": 554,
   "metadata": {},
   "outputs": [],
   "source": [
    "from keras.datasets import mnist\n",
    "\n",
    "def preprocess_data(x, y, limit):\n",
    "    zero_index = np.where(y == 0)[0][:limit]\n",
    "    one_index = np.where(y == 1)[0][:limit]\n",
    "    all_indices = np.hstack((zero_index, one_index))\n",
    "    all_indices = np.random.permutation(all_indices)\n",
    "    x, y = x[all_indices], y[all_indices]\n",
    "    x = x.reshape(len(x), 1, 28, 28)\n",
    "    x = x.astype(\"float32\") / 255\n",
    "    return x, y\n"
   ]
  },
  {
   "cell_type": "code",
   "execution_count": 555,
   "metadata": {},
   "outputs": [],
   "source": [
    "# load MNIST from server, limit to 100 images per class since we're not training on GPU\n",
    "(x_train, y_train), (x_test, y_test) = mnist.load_data()\n",
    "x_train, y_train = preprocess_data(x_train, y_train, 100)\n",
    "x_test, y_test = preprocess_data(x_test, y_test, 100)\n",
    "n_samples = x_train.shape[0]"
   ]
  },
  {
   "cell_type": "code",
   "execution_count": 556,
   "metadata": {},
   "outputs": [
    {
     "name": "stdout",
     "output_type": "stream",
     "text": [
      "Loss: 0.67557943624563\n",
      "Loss: 0.47256092801409544\n",
      "Loss: 0.08969985390686024\n",
      "Loss: 0.050047732318209304\n",
      "Loss: 0.0342821759744453\n",
      "Loss: 0.026043209568767257\n",
      "Loss: 0.020896348974414322\n",
      "Loss: 0.01735034872717643\n"
     ]
    }
   ],
   "source": [
    "from DLFS import Sigmoid, DenseLayer, Model, BCE_Loss, Optimizer_SGD\n",
    "\n",
    "layers = [ConvolutionalLayer((1, 28, 28), 3, 5),\n",
    "          Sigmoid(),\n",
    "          ReshapeLayer((n_samples, 5, 26, 26), (n_samples , 5 * 26 * 26)),\n",
    "          DenseLayer(5 * 26 * 26, 100),\n",
    "          Sigmoid(),\n",
    "          DenseLayer(100, 1),\n",
    "          Sigmoid()]\n",
    "\n",
    "model = Model(layers=layers, loss_function=BCE_Loss(), optimizer=Optimizer_SGD())\n",
    "\n",
    "model.train(x_train, y_train.reshape(-1, 1), print_every=20, iterations=150)"
   ]
  },
  {
   "cell_type": "code",
   "execution_count": 557,
   "metadata": {},
   "outputs": [
    {
     "name": "stdout",
     "output_type": "stream",
     "text": [
      "acc: 1.0\n"
     ]
    }
   ],
   "source": [
    "y_pred = model.predict(x_test)\n",
    "print(f'acc: {np.mean(np.round(y_pred) == y_test.reshape(-1, 1))}')"
   ]
  }
 ],
 "metadata": {
  "kernelspec": {
   "display_name": "Python_venv",
   "language": "python",
   "name": "python3"
  },
  "language_info": {
   "codemirror_mode": {
    "name": "ipython",
    "version": 3
   },
   "file_extension": ".py",
   "mimetype": "text/x-python",
   "name": "python",
   "nbconvert_exporter": "python",
   "pygments_lexer": "ipython3",
   "version": "3.11.4"
  }
 },
 "nbformat": 4,
 "nbformat_minor": 2
}
