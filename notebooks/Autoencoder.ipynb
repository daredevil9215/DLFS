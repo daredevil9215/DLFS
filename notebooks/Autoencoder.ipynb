{
 "cells": [
  {
   "cell_type": "code",
   "execution_count": 2,
   "metadata": {},
   "outputs": [],
   "source": [
    "import numpy as np\n",
    "import matplotlib.pyplot as plt\n",
    "import pandas as pd"
   ]
  },
  {
   "cell_type": "markdown",
   "metadata": {},
   "source": [
    "# Autoencoder\n",
    "\n",
    "- type of neural network which learns lower dimensional data representation\n",
    "\n",
    "- used for dimensionality reduction, noise reduction etc.\n",
    "\n",
    "- unsupervised model because it minimizes the reconstruction error, standard output labels are not used"
   ]
  },
  {
   "cell_type": "markdown",
   "metadata": {},
   "source": [
    "![Autoencoder](../img/autoencoder.png)\n",
    "\n",
    "source: https://towardsdatascience.com/applied-deep-learning-part-3-autoencoders-1c083af4d798"
   ]
  },
  {
   "cell_type": "markdown",
   "metadata": {},
   "source": [
    "# Loading Fashion MNIST dataset"
   ]
  },
  {
   "cell_type": "code",
   "execution_count": 3,
   "metadata": {},
   "outputs": [],
   "source": [
    "path_train = \"../fashion_mnist/fashion-mnist_train.csv\"\n",
    "path_test = \"../fashion_mnist/fashion-mnist_test.csv\"\n",
    "data_train = pd.read_csv(path_train)\n",
    "data_test = pd.read_csv(path_test)"
   ]
  },
  {
   "cell_type": "code",
   "execution_count": 4,
   "metadata": {},
   "outputs": [
    {
     "name": "stdout",
     "output_type": "stream",
     "text": [
      "Train: (60000, 784)\n",
      "Test: (10000, 784)\n"
     ]
    }
   ],
   "source": [
    "data_train = data_train.drop('label', axis=1)\n",
    "data_train = data_train.to_numpy()\n",
    "\n",
    "data_test = data_test.drop('label', axis=1)\n",
    "data_test = data_test.to_numpy()\n",
    "\n",
    "print(f'Train: {data_train.shape}\\nTest: {data_test.shape}')"
   ]
  },
  {
   "cell_type": "code",
   "execution_count": 5,
   "metadata": {},
   "outputs": [
    {
     "name": "stdout",
     "output_type": "stream",
     "text": [
      "Train: (60000, 1, 28, 28)\n",
      "Test: (10000, 1, 28, 28)\n"
     ]
    }
   ],
   "source": [
    "X_train = np.reshape(data_train, (60000, 1, 28, 28)) / 255\n",
    "X_test = np.reshape(data_test, (10000, 1, 28, 28)) / 255\n",
    "\n",
    "#train_size = 50000\n",
    "#X_train = X_train[:train_size]\n",
    "print(f'Train: {X_train.shape}\\nTest: {X_test.shape}')"
   ]
  },
  {
   "cell_type": "code",
   "execution_count": 10,
   "metadata": {},
   "outputs": [],
   "source": [
    "class Encoder:\n",
    "\n",
    "    def __init__(self, layers):\n",
    "        self.layers = layers\n",
    "\n",
    "    def forward(self, inputs):\n",
    "        # Pass data to the input layer\n",
    "        self.layers[0].forward(inputs)\n",
    "\n",
    "        # Forward data through all the layers\n",
    "        for idx, layer in enumerate(self.layers[1:], start=1):\n",
    "                layer.forward(self.layers[idx - 1].output)\n",
    "\n",
    "        # Output of the model is the output of the last layer\n",
    "        self.output = self.layers[-1].output\n",
    "\n",
    "    def backward(self, delta):\n",
    "         \n",
    "        self.layers[-1].backward(delta)\n",
    "\n",
    "        # Pass gradients backwards to all layers\n",
    "        for idx, layer in reversed(list(enumerate(self.layers[:-1]))):\n",
    "            layer.backward(self.layers[idx + 1].dinputs)\n",
    "\n",
    "        self.dinputs = self.layers[0].dinputs\n",
    "\n",
    "class Decoder:\n",
    "\n",
    "    def __init__(self, layers):\n",
    "        self.layers = layers\n",
    "\n",
    "    def forward(self, inputs):\n",
    "        # Pass data to the input layer\n",
    "        self.layers[0].forward(inputs)\n",
    "\n",
    "        # Forward data through all the layers\n",
    "        for idx, layer in enumerate(self.layers[1:], start=1):\n",
    "                layer.forward(self.layers[idx - 1].output)\n",
    "\n",
    "        # Output of the model is the output of the last layer\n",
    "        self.output = self.layers[-1].output\n",
    "\n",
    "    def backward(self, delta):\n",
    "         \n",
    "        self.layers[-1].backward(delta)\n",
    "\n",
    "        # Pass gradients backwards to all layers\n",
    "        for idx, layer in reversed(list(enumerate(self.layers[:-1]))):\n",
    "            layer.backward(self.layers[idx + 1].dinputs)\n",
    "\n",
    "        self.dinputs = self.layers[0].dinputs"
   ]
  },
  {
   "cell_type": "markdown",
   "metadata": {},
   "source": [
    "# Autoencoder for reconstructing original image"
   ]
  },
  {
   "cell_type": "code",
   "execution_count": 275,
   "metadata": {},
   "outputs": [
    {
     "name": "stdout",
     "output_type": "stream",
     "text": [
      "===== EPOCH : 0 ===== LOSS : 12.32619 =====\n",
      "===== EPOCH : 10 ===== LOSS : 2.71872 =====\n",
      "===== EPOCH : 20 ===== LOSS : 2.52375 =====\n",
      "===== EPOCH : 30 ===== LOSS : 2.46286 =====\n",
      "===== EPOCH : 40 ===== LOSS : 2.43351 =====\n"
     ]
    }
   ],
   "source": [
    "from dlfs.layers import DenseLayer, ReshapeLayer\n",
    "from dlfs.activation import ReLU, Sigmoid\n",
    "from dlfs import Model\n",
    "from dlfs.loss import MSE_Loss\n",
    "from dlfs.optimizers import Optimizer_Adam\n",
    "\n",
    "latent_dim = 128\n",
    "\n",
    "encoder_layers = [\n",
    "    ReshapeLayer(input_shape=(1, 28, 28), output_shape=(1*28*28, )),\n",
    "    DenseLayer(28*28, latent_dim),\n",
    "    ReLU()\n",
    "]\n",
    "\n",
    "decoder_layers = [\n",
    "    DenseLayer(latent_dim, 28*28),\n",
    "    Sigmoid(),\n",
    "    ReshapeLayer(input_shape=(1*28*28, ), output_shape=(1, 28, 28))\n",
    "]\n",
    "\n",
    "enc = Encoder(layers=encoder_layers)\n",
    "dec = Decoder(layers=decoder_layers)\n",
    "\n",
    "layers = [enc, dec]\n",
    "\n",
    "lr = 1e-3\n",
    "\n",
    "model = Model(layers=layers, loss_function=MSE_Loss(), optimizer=Optimizer_Adam(learning_rate=lr))\n",
    "model.train(X_train, X_train, print_every=10, batch_size=64, epochs=40)"
   ]
  },
  {
   "cell_type": "markdown",
   "metadata": {},
   "source": [
    "# Random image from test set"
   ]
  },
  {
   "cell_type": "code",
   "execution_count": 328,
   "metadata": {},
   "outputs": [
    {
     "data": {
      "image/png": "[encoded data removed]",
      "text/plain": [
       "<Figure size 640x480 with 1 Axes>"
      ]
     },
     "metadata": {},
     "output_type": "display_data"
    }
   ],
   "source": [
    "idx = np.random.randint(0, len(X_test))\n",
    "\n",
    "test_img = X_test[idx]\n",
    "plt.imshow(test_img.reshape(28, 28), cmap='gray')\n",
    "plt.show()"
   ]
  },
  {
   "cell_type": "markdown",
   "metadata": {},
   "source": [
    "# Compressing image to latent space using encoder"
   ]
  },
  {
   "cell_type": "code",
   "execution_count": 330,
   "metadata": {},
   "outputs": [
    {
     "name": "stdout",
     "output_type": "stream",
     "text": [
      "Compressed shape: (1, 128)\n"
     ]
    }
   ],
   "source": [
    "enc.forward(test_img)\n",
    "compressed = enc.output\n",
    "print(f'Compressed shape: {compressed.shape}')"
   ]
  },
  {
   "cell_type": "markdown",
   "metadata": {},
   "source": [
    "# Restoring image from compressed state using decoder"
   ]
  },
  {
   "cell_type": "code",
   "execution_count": 332,
   "metadata": {},
   "outputs": [
    {
     "data": {
      "image/png": "[encoded data removed]",
      "text/plain": [
       "<Figure size 640x480 with 1 Axes>"
      ]
     },
     "metadata": {},
     "output_type": "display_data"
    }
   ],
   "source": [
    "dec.forward(compressed)\n",
    "decompressed = dec.output\n",
    "plt.imshow(decompressed.reshape(28, 28), cmap='gray')\n",
    "plt.show()"
   ]
  },
  {
   "cell_type": "markdown",
   "metadata": {},
   "source": [
    "# Autoencoder for denoising images"
   ]
  },
  {
   "cell_type": "code",
   "execution_count": 6,
   "metadata": {},
   "outputs": [],
   "source": [
    "def salt_pepper_noise(image, salt_prob, pepper_prob):\n",
    "    \"\"\"\n",
    "    Adds salt and pepper noise to image.\n",
    "    \"\"\"\n",
    "\n",
    "    if len(image.shape) == 2:\n",
    "\n",
    "        num_salt = np.ceil(salt_prob * image.shape[0] * image.shape[1])\n",
    "        num_pepper = np.ceil(pepper_prob * image.shape[0] * image.shape[1])\n",
    "\n",
    "        salt_cords = [np.random.randint(0, i, int(num_salt)) for i in image.shape]\n",
    "        pepper_cords = [np.random.randint(0, i, int(num_pepper)) for i in image.shape]\n",
    "\n",
    "        output = image.copy()\n",
    "\n",
    "        output[tuple(salt_cords)] = 1\n",
    "        output[tuple(pepper_cords)] = 0\n",
    "\n",
    "    elif len(image.shape) == 3:\n",
    "\n",
    "        num_salt = np.ceil(salt_prob * image.shape[1] * image.shape[2])\n",
    "        num_pepper = np.ceil(pepper_prob * image.shape[1] * image.shape[2])\n",
    "\n",
    "        salt_cords = [np.random.randint(0, i, int(num_salt)) for i in image.shape[1:]]\n",
    "        pepper_cords = [np.random.randint(0, i, int(num_pepper)) for i in image.shape[1:]]\n",
    "\n",
    "        output = image.copy()\n",
    "\n",
    "        output[:, salt_cords[0], salt_cords[1]] = 1\n",
    "        output[:, pepper_cords[0], pepper_cords[1]] = 0\n",
    "\n",
    "    return output"
   ]
  },
  {
   "cell_type": "code",
   "execution_count": 7,
   "metadata": {},
   "outputs": [
    {
     "name": "stdout",
     "output_type": "stream",
     "text": [
      "Train noisy: (60000, 1, 28, 28)\n",
      "Test noisy: (10000, 1, 28, 28)\n"
     ]
    }
   ],
   "source": [
    "X_train_noisy = []\n",
    "X_test_noisy = []\n",
    "\n",
    "for img in X_train:\n",
    "    noisy_img = salt_pepper_noise(img, salt_prob=0.1, pepper_prob=0.01)\n",
    "    X_train_noisy.append(noisy_img)\n",
    "\n",
    "for img in X_test:\n",
    "    noisy_img = salt_pepper_noise(img, salt_prob=0.1, pepper_prob=0.01)\n",
    "    X_test_noisy.append(noisy_img)\n",
    "\n",
    "X_train_noisy = np.array(X_train_noisy)\n",
    "X_test_noisy = np.array(X_test_noisy)\n",
    "print(f'Train noisy: {X_train_noisy.shape}\\nTest noisy: {X_test_noisy.shape}')"
   ]
  },
  {
   "cell_type": "code",
   "execution_count": 11,
   "metadata": {},
   "outputs": [
    {
     "name": "stdout",
     "output_type": "stream",
     "text": [
      "===== EPOCH : 0 ===== LOSS : 318.06547 =====\n",
      "===== EPOCH : 10 ===== LOSS : 256.92398 =====\n",
      "===== EPOCH : 20 ===== LOSS : 255.52101 =====\n",
      "===== EPOCH : 30 ===== LOSS : 255.15520 =====\n",
      "===== EPOCH : 40 ===== LOSS : 254.97333 =====\n"
     ]
    }
   ],
   "source": [
    "from dlfs.layers import DenseLayer, ReshapeLayer\n",
    "from dlfs.activation import ReLU, Sigmoid\n",
    "from dlfs import Model\n",
    "from dlfs.loss import BCE_Loss\n",
    "from dlfs.optimizers import Optimizer_Adam\n",
    "\n",
    "latent_dim = 128\n",
    "\n",
    "encoder_layers = [\n",
    "    ReshapeLayer(input_shape=(1, 28, 28), output_shape=(1*28*28, )),\n",
    "    DenseLayer(28*28, latent_dim),\n",
    "    ReLU()\n",
    "]\n",
    "\n",
    "decoder_layers = [\n",
    "    DenseLayer(latent_dim, 28*28),\n",
    "    Sigmoid(),\n",
    "    ReshapeLayer(input_shape=(1*28*28, ), output_shape=(1, 28, 28))\n",
    "]\n",
    "\n",
    "enc = Encoder(layers=encoder_layers)\n",
    "dec = Decoder(layers=decoder_layers)\n",
    "\n",
    "layers = [enc, dec]\n",
    "\n",
    "lr = 1e-3\n",
    "\n",
    "model = Model(layers=layers, loss_function=BCE_Loss(), optimizer=Optimizer_Adam(learning_rate=lr))\n",
    "model.train(X_train_noisy, X_train, print_every=10, batch_size=64, epochs=40)"
   ]
  },
  {
   "cell_type": "markdown",
   "metadata": {},
   "source": [
    "# Using autoencoder to denoise an image"
   ]
  },
  {
   "cell_type": "code",
   "execution_count": 28,
   "metadata": {},
   "outputs": [
    {
     "data": {
      "image/png": "[encoded data removed]",
      "text/plain": [
       "<Figure size 640x480 with 1 Axes>"
      ]
     },
     "metadata": {},
     "output_type": "display_data"
    }
   ],
   "source": [
    "idx = np.random.randint(0, len(X_test))\n",
    "\n",
    "noisy_img = X_test_noisy[idx]\n",
    "plt.imshow(noisy_img.reshape(28, 28), cmap='gray')\n",
    "plt.show()"
   ]
  },
  {
   "cell_type": "code",
   "execution_count": 29,
   "metadata": {},
   "outputs": [
    {
     "data": {
      "image/png": "[encoded data removed]",
      "text/plain": [
       "<Figure size 640x480 with 1 Axes>"
      ]
     },
     "metadata": {},
     "output_type": "display_data"
    }
   ],
   "source": [
    "corrected = model.predict(noisy_img)\n",
    "plt.imshow(corrected.reshape(28, 28), cmap='gray')\n",
    "plt.show()"
   ]
  }
 ],
 "metadata": {
  "kernelspec": {
   "display_name": "Python_venv",
   "language": "python",
   "name": "python3"
  },
  "language_info": {
   "codemirror_mode": {
    "name": "ipython",
    "version": 3
   },
   "file_extension": ".py",
   "mimetype": "text/x-python",
   "name": "python",
   "nbconvert_exporter": "python",
   "pygments_lexer": "ipython3",
   "version": "3.10.12"
  }
 },
 "nbformat": 4,
 "nbformat_minor": 2
}
