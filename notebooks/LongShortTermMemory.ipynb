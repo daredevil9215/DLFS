{
 "cells": [
  {
   "cell_type": "markdown",
   "metadata": {},
   "source": [
    "# Long Short Term Memory (LSTM)\n",
    "\n",
    "- enhanced version of vanilla RNN\n",
    "\n",
    "- handles long term dependencies better\n",
    "\n",
    "- consists of four gates: forget gate $\\mathbf{f}_t$, input gate $\\mathbf{i}_t$, candidate gate $\\mathbf{\\tilde{c}}_t$ and output gate $\\mathbf{o}_t$\n",
    "\n",
    "- gates produce cell states $\\mathbf{c}_t$ (long term memory) and hidden states $\\mathbf{h}_t$ (short term memory)\n",
    "\n",
    "- $\\sigma$ denotes the sigmoid function, $\\phi$ denotes hyperbolic tangent function $\\tanh$, $\\odot$ denotes element-wise multiplication and $\\cdot$ denotes dot product"
   ]
  },
  {
   "cell_type": "markdown",
   "metadata": {},
   "source": [
    "![LSTM](../img/lstm.png)\n",
    "\n",
    "source: https://d2l.ai/chapter_recurrent-modern/lstm.html"
   ]
  },
  {
   "cell_type": "markdown",
   "metadata": {},
   "source": [
    "# Forward pass"
   ]
  },
  {
   "cell_type": "markdown",
   "metadata": {},
   "source": [
    "$$ \\mathbf{x}_t = [\\mathbf{x}_t, \\mathbf{h}_{t-1}] \\quad \\rightarrow \\quad \\text{Concatenation of input and previous hidden state}$$\n",
    "\n",
    "$$\n",
    "\n",
    "\\mathbf{f}_t = \\sigma(\\mathbf{x_t} \\cdot \\mathbf{W}_f + \\mathbf{b}_f)\n",
    "\n",
    "\\quad \\quad \n",
    "\n",
    "\\mathbf{i}_t = \\sigma(\\mathbf{x_t} \\cdot \\mathbf{W}_i + \\mathbf{b}_i)\n",
    "\n",
    "\\quad \\quad\n",
    "\n",
    "\\mathbf{\\tilde{c}}_t = \\phi(\\mathbf{x_t} \\cdot \\mathbf{W}_c + \\mathbf{b}_c)\n",
    "\n",
    "\\quad \\quad\n",
    "\n",
    "\\mathbf{o}_t = \\sigma(\\mathbf{x_t} \\cdot \\mathbf{W}_o + \\mathbf{b}_o)\n",
    "\n",
    "$$"
   ]
  },
  {
   "cell_type": "markdown",
   "metadata": {},
   "source": [
    "$$ \\mathbf{c}_t = \\mathbf{c}_{t-1} \\odot \\mathbf{f}_t + \\mathbf{i}_t \\odot \\mathbf{\\tilde{c}}_t$$\n",
    "\n",
    "$$ \\mathbf{h}_t = \\phi(\\mathbf{c}_t) \\odot \\mathbf{o}_t $$"
   ]
  },
  {
   "cell_type": "markdown",
   "metadata": {},
   "source": [
    "# Gradients"
   ]
  },
  {
   "cell_type": "markdown",
   "metadata": {},
   "source": [
    "$$ \n",
    "\\begin{align*}\n",
    "\n",
    "\\begin{aligned}\n",
    "\\frac{\\partial \\mathbf{f}_t}{\\partial \\mathbf{W}_f} &= \\sigma'(\\mathbf{x_t} \\cdot \\mathbf{W}_f + \\mathbf{b}_f) \\cdot \\mathbf{x}_t \\\\\n",
    "&= \\left[ \\mathbf{f}_t \\odot (1 - \\mathbf{f}_t) \\right] \\cdot \\mathbf{x}_t \\\\ \\\\\n",
    "\n",
    "\\frac{\\partial \\mathbf{f}_t}{\\partial \\mathbf{b}_f} &= \\sigma'(\\mathbf{x_t} \\cdot \\mathbf{W}_f + \\mathbf{b}_f) \\cdot 1\\\\\n",
    "&= \\mathbf{f}_t \\odot (1 - \\mathbf{f}_t) \\\\ \\\\\n",
    "\n",
    "\\frac{\\partial \\mathbf{f}_t}{\\partial \\mathbf{x}_t} &= \\sigma'(\\mathbf{x_t} \\cdot \\mathbf{W}_f + \\mathbf{b}_f) \\cdot \\mathbf{W}_f \\\\\n",
    "&= \\left[ \\mathbf{f}_t \\odot (1 - \\mathbf{f}_t) \\right] \\cdot \\mathbf{W}_f\n",
    "\\end{aligned}\n",
    "\n",
    "\\quad \\quad\n",
    "\n",
    "\\begin{aligned}\n",
    "\\frac{\\partial \\mathbf{i}_t}{\\partial \\mathbf{W}_i} &= \\sigma'(\\mathbf{x_t} \\cdot \\mathbf{W}_i + \\mathbf{b}_i) \\cdot \\mathbf{x}_t \\\\\n",
    "&= \\left[ \\mathbf{i}_t \\odot (1 - \\mathbf{i}_t) \\right] \\cdot \\mathbf{x}_t \\\\ \\\\\n",
    "\n",
    "\\frac{\\partial \\mathbf{i}_t}{\\partial \\mathbf{b}_i} &= \\sigma'(\\mathbf{x_t} \\cdot \\mathbf{W}_i + \\mathbf{b}_i) \\cdot 1\\\\\n",
    "&= \\mathbf{i}_t \\odot (1 - \\mathbf{i}_t) \\\\ \\\\\n",
    "\n",
    "\\frac{\\partial \\mathbf{i}_t}{\\partial \\mathbf{x}_t} &= \\sigma'(\\mathbf{x_t} \\cdot \\mathbf{W}_i + \\mathbf{b}_i) \\cdot \\mathbf{W}_i \\\\\n",
    "&= \\left[ \\mathbf{i}_t \\odot (1 - \\mathbf{i}_t) \\right] \\cdot \\mathbf{W}_i\n",
    "\\end{aligned}\n",
    "\n",
    "\\quad \\quad\n",
    "\n",
    "\\begin{aligned}\n",
    "\\frac{\\partial \\mathbf{\\tilde{c}}_t}{\\partial \\mathbf{W}_c} &= \\phi'(\\mathbf{x_t} \\cdot \\mathbf{W}_c + \\mathbf{b}_c) \\cdot \\mathbf{x}_t \\\\\n",
    "&= \\left[ 1 - \\tilde{c}_t^2 \\right] \\cdot \\mathbf{x}_t \\\\ \\\\\n",
    "\n",
    "\\frac{\\partial \\mathbf{\\tilde{c}}_t}{\\partial \\mathbf{b}_c} &= \\phi'(\\mathbf{x_t} \\cdot \\mathbf{W}_c + \\mathbf{b}_c) \\cdot 1\\\\\n",
    "&= 1 - \\tilde{c}_t^2 \\\\ \\\\\n",
    "\n",
    "\\frac{\\partial \\mathbf{\\tilde{c}}_t}{\\partial \\mathbf{x}_t} &= \\phi'(\\mathbf{x_t} \\cdot \\mathbf{W}_c + \\mathbf{b}_c) \\cdot \\mathbf{W}_c \\\\\n",
    "&= \\left[ 1 - \\tilde{c}_t^2 \\right] \\cdot \\mathbf{W}_c\n",
    "\\end{aligned}\n",
    "\n",
    "\\quad \\quad\n",
    "\n",
    "\\begin{aligned}\n",
    "\\frac{\\partial \\mathbf{o}_t}{\\partial \\mathbf{W}_o} &= \\sigma'(\\mathbf{x_t} \\cdot \\mathbf{W}_o + \\mathbf{b}_o) \\cdot \\mathbf{x}_t \\\\\n",
    "&= \\left[ \\mathbf{o}_t \\odot (1 - \\mathbf{o}_t) \\right] \\cdot \\mathbf{x}_t \\\\ \\\\\n",
    "\n",
    "\\frac{\\partial \\mathbf{o}_t}{\\partial \\mathbf{b}_o} &= \\sigma'(\\mathbf{x_t} \\cdot \\mathbf{W}_o + \\mathbf{b}_o) \\cdot 1\\\\\n",
    "&= \\mathbf{o}_t \\odot (1 - \\mathbf{o}_t) \\\\ \\\\\n",
    "\n",
    "\\frac{\\partial \\mathbf{o}_t}{\\partial \\mathbf{x}_t} &= \\sigma'(\\mathbf{x_t} \\cdot \\mathbf{W}_o + \\mathbf{b}_o) \\cdot \\mathbf{W}_o \\\\\n",
    "&= \\left[ \\mathbf{o}_t \\odot (1 - \\mathbf{o}_t) \\right] \\cdot \\mathbf{W}_o\n",
    "\\end{aligned}\n",
    "\n",
    "\\end{align*}\n",
    "$$"
   ]
  },
  {
   "cell_type": "markdown",
   "metadata": {},
   "source": [
    "$$ \n",
    "\n",
    "\\frac{\\partial \\mathbf{c}_t}{\\partial \\mathbf{c}_{t-1}} =  \\mathbf{f}_t\n",
    "\n",
    "\\quad \\quad\n",
    "\n",
    "\\frac{\\partial \\mathbf{c}_t}{\\partial \\mathbf{f}_t} =  \\mathbf{c}_{t-1}\n",
    "\n",
    "\\quad \\quad\n",
    "\n",
    "\\frac{\\partial \\mathbf{c}_t}{\\partial \\mathbf{i}_t} =  \\mathbf{\\tilde{c}}_t\n",
    "\n",
    "\\quad \\quad\n",
    "\n",
    "\\frac{\\partial \\mathbf{c}_t}{\\partial \\mathbf{\\tilde{c}}_t} =  \\mathbf{i}_t\n",
    "$$"
   ]
  },
  {
   "cell_type": "markdown",
   "metadata": {},
   "source": [
    "$$\n",
    "\n",
    "\\begin{aligned}\n",
    "\\frac{\\partial \\mathbf{h}_t}{\\partial \\mathbf{c}_t} &= \\phi'(\\mathbf{c}_t) \\odot \\mathbf{o}_t \\\\\n",
    "&= \\left[ 1 - \\phi^2(\\mathbf{c}_t) \\right] \\odot \\mathbf{o}_t\n",
    "\n",
    "\\end{aligned}\n",
    "\n",
    "\\quad \\quad\n",
    "\n",
    "\\frac{\\partial \\mathbf{h}_t}{\\partial \\mathbf{o}_t} = \\phi(\\mathbf{c}_t)\n",
    "\n",
    "$$"
   ]
  },
  {
   "cell_type": "markdown",
   "metadata": {},
   "source": [
    "# Backward pass"
   ]
  },
  {
   "cell_type": "markdown",
   "metadata": {},
   "source": [
    "$$\n",
    "\n",
    "\\begin{align*}\n",
    "\n",
    "    \\frac{\\partial \\mathcal{L}_t}{\\partial \\mathbf{W}_o} &= \\frac{\\partial \\mathcal{L}_t}{\\partial \\mathbf{h}_t} \\cdot \\frac{\\partial \\mathbf{h}_t}{\\partial \\mathbf{o}_t} \\cdot \\frac{\\partial \\mathbf{o}_t}{\\partial \\mathbf{W}_o} \\\\\n",
    "\n",
    "    &= \\left[ \\delta_t \\odot \\phi(\\mathbf{c}_t) \\odot \\mathbf{o}_t \\odot (1 - \\mathbf{o}_t) \\right] \\cdot \\mathbf{x}_t\n",
    "\n",
    "\\end{align*}\n",
    "\n",
    "\\quad \\quad\n",
    "\n",
    "\\frac{\\partial \\mathcal{L}}{\\partial \\mathbf{W}_o} = \\sum_t \\frac{\\partial \\mathcal{L}_t}{\\partial \\mathbf{W}_o} \\\\ \\\\\n",
    "\n",
    "$$"
   ]
  },
  {
   "cell_type": "markdown",
   "metadata": {},
   "source": [
    "$$\n",
    "\\begin{align*}\n",
    "\n",
    "    \\frac{\\partial \\mathcal{L}_t}{\\partial \\mathbf{b}_o} &=\\frac{\\partial \\mathcal{L}_t}{\\partial \\mathbf{h}_t} \\cdot \\frac{\\partial \\mathbf{h}_t}{\\partial \\mathbf{o}_t} \\cdot \\frac{\\partial \\mathbf{o}_t}{\\partial \\mathbf{b}_o} \\\\\n",
    "\n",
    "    &= \\delta_t \\odot \\phi(\\mathbf{c}_t) \\odot \\mathbf{o}_t \\odot (1 - \\mathbf{o}_t)\n",
    "\n",
    "\\end{align*}\n",
    "\n",
    "\\quad \\quad\n",
    "\n",
    "\\frac{\\partial \\mathcal{L}}{\\partial \\mathbf{b}_o} = \\sum_t \\frac{\\partial \\mathcal{L}_t}{\\partial \\mathbf{b}_o}\n",
    "$$"
   ]
  },
  {
   "cell_type": "markdown",
   "metadata": {},
   "source": [
    "$$\n",
    "\\begin{align*}\n",
    "\n",
    "\\frac{\\partial \\mathcal{L}_t}{\\partial \\mathbf{c}_t} &= \\frac{\\partial \\mathcal{L}_t}{\\partial \\mathbf{h}_t} \\cdot \\frac{\\partial \\mathbf{h}_t}{\\partial \\mathbf{c}_t} + \\frac{\\partial \\mathcal{L}_{t+1}}{\\partial \\mathbf{h}_{t+1}} \\cdot \\frac{\\partial \\mathbf{h}_{t+1}}{\\partial \\mathbf{c}_{t+1}} \\cdot \\frac{\\partial \\mathbf{c}_{t+1}}{\\partial \\mathbf{c}_t} \\\\\n",
    "\n",
    "&= \\delta_t \\odot \\left[ 1 - \\phi^2(\\mathbf{c}_t) \\right] \\odot \\mathbf{o}_t + \\delta_{t+1} \\odot \\left[ 1 - \\phi^2(\\mathbf{c}_{t+1}) \\right] \\odot \\mathbf{o}_{t+1} \\odot \\mathbf{f}_{t+1} \\\\\n",
    "\n",
    "&= \\mathbf{g}_t + \\mathbf{g}_{t+1} \\odot \\mathbf{f}_{t+1}\n",
    "\n",
    "\\end{align*}\n",
    "$$"
   ]
  },
  {
   "cell_type": "markdown",
   "metadata": {},
   "source": [
    "$$\n",
    "\n",
    "\\begin{align*}\n",
    "\n",
    "    \\frac{\\partial \\mathcal{L}_t}{\\partial \\mathbf{W}_c} &= \\frac{\\partial \\mathcal{L}_t}{\\partial \\mathbf{c}_t} \\cdot \\frac{\\partial \\mathbf{c}_t}{\\partial \\mathbf{\\tilde{c}}_t} \\cdot  \\frac{\\partial \\mathbf{\\tilde{c}_t}}{\\partial \\mathbf{W}_c}\\\\\n",
    "    \n",
    "    &= \\left( \\left( \\mathbf{g}_t + \\mathbf{g}_{t+1} \\odot \\mathbf{f}_{t+1} \\right) \\odot \\mathbf{i}_{t} \\odot \\left[ 1 - \\tilde{c}_t^2 \\right] \\right) \\cdot \\mathbf{x}_t\n",
    " \n",
    "\\end{align*}\n",
    "\n",
    "\\quad \\quad\n",
    "\n",
    "\\frac{\\partial \\mathcal{L}}{\\partial \\mathbf{W}_c} = \\sum_t \\frac{\\partial \\mathcal{L}_t}{\\partial \\mathbf{W}_c} \\\\ \\\\\n",
    "\n",
    "$$"
   ]
  },
  {
   "cell_type": "markdown",
   "metadata": {},
   "source": [
    "$$\n",
    "\n",
    "\\begin{align*}\n",
    "\n",
    "    \\frac{\\partial \\mathcal{L}_t}{\\partial \\mathbf{b}_c} &= \\frac{\\partial \\mathcal{L}_t}{\\partial \\mathbf{c}_t} \\cdot \\frac{\\partial \\mathbf{c}_t}{\\partial \\mathbf{\\tilde{c}}_t} \\cdot  \\frac{\\partial \\mathbf{\\tilde{c}_t}}{\\partial \\mathbf{b}_c}\\\\\n",
    "    \n",
    "    &=  \\left( \\mathbf{g}_t + \\mathbf{g}_{t+1} \\odot \\mathbf{f}_{t+1} \\right) \\odot \\mathbf{i}_{t} \\odot \\left[ 1 - \\tilde{c}_t^2 \\right]\n",
    " \n",
    "\\end{align*}\n",
    "\n",
    "\\quad \\quad\n",
    "\n",
    "\\frac{\\partial \\mathcal{L}}{\\partial \\mathbf{b}_c} = \\sum_t \\frac{\\partial \\mathcal{L}_t}{\\partial \\mathbf{b}_c} \\\\ \\\\\n",
    "\n",
    "$$"
   ]
  },
  {
   "cell_type": "markdown",
   "metadata": {},
   "source": [
    "$$\n",
    "\n",
    "\\begin{align*}\n",
    "\n",
    "    \\frac{\\partial \\mathcal{L}_t}{\\partial \\mathbf{W}_i} &= \\frac{\\partial \\mathcal{L}_t}{\\partial \\mathbf{c}_t} \\cdot \\frac{\\partial \\mathbf{c}_t}{\\partial \\mathbf{i}_t} \\cdot  \\frac{\\partial \\mathbf{i}_t}{\\partial \\mathbf{W}_i}\\\\\n",
    "    \n",
    "    &= \\left( \\left( \\mathbf{g}_t + \\mathbf{g}_{t+1} \\odot \\mathbf{f}_{t+1} \\right) \\odot \\mathbf{\\tilde{c}}_{t} \\odot \\mathbf{i}_t \\odot (1 - \\mathbf{i}_t) \\right) \\cdot \\mathbf{x}_t\n",
    " \n",
    "\\end{align*}\n",
    "\n",
    "\\quad \\quad\n",
    "\n",
    "\\frac{\\partial \\mathcal{L}}{\\partial \\mathbf{W}_i} = \\sum_t \\frac{\\partial \\mathcal{L}_t}{\\partial \\mathbf{W}_i} \\\\ \\\\\n",
    "\n",
    "$$"
   ]
  },
  {
   "cell_type": "markdown",
   "metadata": {},
   "source": [
    "$$\n",
    "\n",
    "\\begin{align*}\n",
    "\n",
    "    \\frac{\\partial \\mathcal{L}_t}{\\partial \\mathbf{b}_i} &= \\frac{\\partial \\mathcal{L}_t}{\\partial \\mathbf{c}_t} \\cdot \\frac{\\partial \\mathbf{c}_t}{\\partial \\mathbf{i}_t} \\cdot  \\frac{\\partial \\mathbf{i}_t}{\\partial \\mathbf{b}_i}\\\\\n",
    "    \n",
    "    &= \\left( \\mathbf{g}_t + \\mathbf{g}_{t+1} \\odot \\mathbf{f}_{t+1} \\right) \\odot \\mathbf{\\tilde{c}}_{t} \\odot \\mathbf{i}_t \\odot (1 - \\mathbf{i}_t)\n",
    " \n",
    "\\end{align*}\n",
    "\n",
    "\\quad \\quad\n",
    "\n",
    "\\frac{\\partial \\mathcal{L}}{\\partial \\mathbf{b}_i} = \\sum_t \\frac{\\partial \\mathcal{L}_t}{\\partial \\mathbf{b}_i} \\\\ \\\\\n",
    "\n",
    "$$"
   ]
  },
  {
   "cell_type": "markdown",
   "metadata": {},
   "source": [
    "$$\n",
    "\n",
    "\\begin{align*}\n",
    "\n",
    "    \\frac{\\partial \\mathcal{L}_t}{\\partial \\mathbf{W}_f} &= \\frac{\\partial \\mathcal{L}_t}{\\partial \\mathbf{c}_t} \\cdot \\frac{\\partial \\mathbf{c}_t}{\\partial \\mathbf{f}_t} \\cdot  \\frac{\\partial \\mathbf{f}_t}{\\partial \\mathbf{W}_f}\\\\\n",
    "    \n",
    "    &= \\left( \\left( \\mathbf{g}_t + \\mathbf{g}_{t+1} \\odot \\mathbf{f}_{t+1} \\right) \\odot \\mathbf{c}_{t-1} \\odot \\mathbf{f}_t \\odot (1 - \\mathbf{f}_t) \\right) \\cdot \\mathbf{x}_t\n",
    " \n",
    "\\end{align*}\n",
    "\n",
    "\\quad \\quad\n",
    "\n",
    "\\frac{\\partial \\mathcal{L}}{\\partial \\mathbf{W}_f} = \\sum_t \\frac{\\partial \\mathcal{L}_t}{\\partial \\mathbf{W}_f} \\\\ \\\\\n",
    "\n",
    "$$"
   ]
  },
  {
   "cell_type": "markdown",
   "metadata": {},
   "source": [
    "$$\n",
    "\n",
    "\\begin{align*}\n",
    "\n",
    "    \\frac{\\partial \\mathcal{L}_t}{\\partial \\mathbf{b}_f} &= \\frac{\\partial \\mathcal{L}_t}{\\partial \\mathbf{c}_t} \\cdot \\frac{\\partial \\mathbf{c}_t}{\\partial \\mathbf{f}_t} \\cdot  \\frac{\\partial \\mathbf{f}_t}{\\partial \\mathbf{b}_f}\\\\\n",
    "    \n",
    "    &=  \\left( \\mathbf{g}_t + \\mathbf{g}_{t+1} \\odot \\mathbf{f}_{t+1} \\right) \\odot \\mathbf{c}_{t-1} \\odot \\mathbf{f}_t \\odot (1 - \\mathbf{f}_t)\n",
    " \n",
    "\\end{align*}\n",
    "\n",
    "\\quad \\quad\n",
    "\n",
    "\\frac{\\partial \\mathcal{L}}{\\partial \\mathbf{b}_f} = \\sum_t \\frac{\\partial \\mathcal{L}_t}{\\partial \\mathbf{b}_f} \\\\ \\\\\n",
    "\n",
    "$$"
   ]
  },
  {
   "cell_type": "markdown",
   "metadata": {},
   "source": [
    "$$\n",
    "\\begin{align*}\n",
    "\\frac{\\partial \\mathbf{c}_t}{\\partial \\mathbf{x}_t} &= \\frac{\\partial \\mathbf{c}_t}{\\partial \\mathbf{f}_t} \\cdot \\frac{\\partial \\mathbf{f}_t}{\\partial \\mathbf{x}_t} + \\frac{\\partial \\mathbf{c}_t}{\\partial \\mathbf{i}_t} \\cdot \\frac{\\partial \\mathbf{i}_t}{\\partial \\mathbf{x}_t} + \\frac{\\partial \\mathbf{c}_t}{\\partial \\mathbf{\\tilde{c}_t}} \\cdot \\frac{\\partial \\mathbf{\\tilde{c}_t}}{\\partial \\mathbf{x}_t} \\\\\n",
    "\n",
    "&= \\mathbf{c}_{t-1} \\cdot \\mathbf{W}_f + \\mathbf{\\tilde{c}_t} \\cdot \\mathbf{W}_i + \\mathbf{i}_t \\cdot \\mathbf{W}_c\n",
    "\n",
    "\n",
    "\\end{align*}\n",
    "$$"
   ]
  },
  {
   "cell_type": "markdown",
   "metadata": {},
   "source": [
    "$$\n",
    "\n",
    "\\begin{align*}\n",
    "\n",
    "    \\frac{\\partial \\mathcal{L}_t}{\\partial \\mathbf{x}_t} &= \\frac{\\partial \\mathcal{L}_t}{\\partial \\mathbf{c}_t} \\cdot \\frac{\\partial \\mathbf{c}_t}{\\partial \\mathbf{x}_t} + \\frac{\\partial \\mathcal{L}_t}{\\partial \\mathbf{h}_t} \\cdot \\frac{\\partial \\mathbf{h}_t}{\\partial \\mathbf{o}_t} \\cdot \\frac{\\partial \\mathbf{o}_t}{\\partial \\mathbf{x}_t}\\\\\n",
    "\n",
    "    &= \\left( \\mathbf{g}_t + \\mathbf{g}_{t+1} \\odot \\mathbf{f}_{t+1} \\right) \\cdot \\left( \\mathbf{c}_{t-1} \\cdot \\mathbf{W}_f + \\mathbf{\\tilde{c}_t} \\cdot \\mathbf{W}_i + \\mathbf{i}_t \\cdot \\mathbf{W}_c \\right) + \\left( \\delta_t \\odot \\phi(\\mathbf{c}_t) \\odot  \\mathbf{o}_t \\odot (1 - \\mathbf{o}_t) \\right) \\cdot \\mathbf{W}_o \n",
    " \n",
    "\\end{align*}\n",
    "\n",
    "$$"
   ]
  },
  {
   "cell_type": "code",
   "execution_count": 1,
   "metadata": {},
   "outputs": [],
   "source": [
    "import numpy as np\n",
    "import matplotlib.pyplot as plt"
   ]
  },
  {
   "cell_type": "markdown",
   "metadata": {},
   "source": [
    "# LSTM implementation"
   ]
  },
  {
   "cell_type": "code",
   "execution_count": 2,
   "metadata": {},
   "outputs": [],
   "source": [
    "from dlfs.base import Layer\n",
    "\n",
    "class LSTMLayer(Layer):\n",
    "\n",
    "    def __init__(self, n_inputs: int, n_hidden: int, predict_sequence: bool = False) -> None:\n",
    "        \"\"\"\n",
    "        Long short term memory layer. Takes 3D arrays of shape (n_samples, n_timestamps, n_features) as input.\n",
    "\n",
    "        Parameters\n",
    "        ----------\n",
    "        n_inputs : int\n",
    "            Number of input features.\n",
    "\n",
    "        n_hidden : int\n",
    "            Number of hidden features.\n",
    "\n",
    "        predict_sequence : bool, default=False\n",
    "            Whether a sequence or a single element is returned as output.\n",
    "\n",
    "        Attributes\n",
    "        ----------\n",
    "        input_weights : numpy.ndarray\n",
    "            Matrix of input weight coefficients.\n",
    "\n",
    "        input_bias : numpy.ndarray\n",
    "            Vector of input bias coefficients.\n",
    "\n",
    "        forget_weights : numpy.ndarray\n",
    "            Matrix of forget weight coefficients.\n",
    "\n",
    "        forget_bias : numpy.ndarray\n",
    "            Vector of forget bias coefficients.\n",
    "\n",
    "        candidate_weights : numpy.ndarray\n",
    "            Matrix of candidate weight coefficients.\n",
    "\n",
    "        candidate_bias : numpy.ndarray\n",
    "            Vector of candidate bias coefficients.\n",
    "\n",
    "        output_weights : numpy.ndarray\n",
    "            Matrix of output weight coefficients.\n",
    "\n",
    "        output_bias : numpy.ndarray\n",
    "            Vector of output bias coefficients.\n",
    "        \"\"\"\n",
    "        self.predict_sequence = predict_sequence\n",
    "\n",
    "        # Initialize parameters\n",
    "        k = 1 / np.sqrt(n_hidden)\n",
    "        self.n_hidden = n_hidden\n",
    "        self.n_inputs = n_inputs\n",
    "\n",
    "        self.input_weights = np.random.uniform(-k, k, (n_inputs + n_hidden, n_hidden))\n",
    "        self.input_bias = np.random.uniform(-k, k, (n_hidden))\n",
    "\n",
    "        self.forget_weights = np.random.uniform(-k, k, (n_inputs + n_hidden, n_hidden))\n",
    "        self.forget_bias = np.random.uniform(-k, k, (n_hidden))\n",
    "\n",
    "        self.candidate_weights = np.random.uniform(-k, k, (n_inputs + n_hidden, n_hidden))\n",
    "        self.candidate_bias = np.random.uniform(-k, k, (n_hidden)) \n",
    "\n",
    "        self.output_weights = np.random.uniform(-k, k, (n_inputs + n_hidden, n_hidden))\n",
    "        self.output_bias = np.random.uniform(-k, k, (n_hidden)) \n",
    "             \n",
    "    def forward(self, inputs: np.ndarray) -> None:\n",
    "        \"\"\"\n",
    "        Forward pass using the LSTM layer. \n",
    "        Creates hidden, candidate, cell, forget, input, output states and output attributes.\n",
    "\n",
    "        Parameters\n",
    "        ----------\n",
    "        inputs : numpy.ndarray\n",
    "            Input matrix.\n",
    "\n",
    "        Returns\n",
    "        -------\n",
    "        None\n",
    "        \"\"\"\n",
    "\n",
    "        # Store number of samples and timestamps\n",
    "        self.n_samples, self.timestamps = inputs.shape[:2]\n",
    "\n",
    "        # Initialize concatenated inputs matrix\n",
    "        self.concat_inputs = np.zeros((self.n_samples, self.timestamps, self.n_hidden + self.n_inputs))\n",
    "\n",
    "        # Store input shape\n",
    "        self.input_shape = inputs.shape\n",
    "\n",
    "        # Initialize states\n",
    "        self.hidden_states = np.zeros((self.n_samples, self.timestamps, self.n_hidden))\n",
    "        self.candidate_states = np.zeros((self.n_samples, self.timestamps, self.n_hidden))\n",
    "        self.cell_states = np.zeros((self.n_samples, self.timestamps, self.n_hidden))\n",
    "        self.forget_states = np.zeros((self.n_samples, self.timestamps, self.n_hidden))\n",
    "        self.input_states = np.zeros((self.n_samples, self.timestamps, self.n_hidden))\n",
    "        self.output_states = np.zeros((self.n_samples, self.timestamps, self.n_hidden))\n",
    "\n",
    "        # Loop through timestamps\n",
    "        for t in range(self.timestamps):\n",
    "\n",
    "            # Concatenate inputs and previous hidden states\n",
    "            inputs_hidden_concatenated = np.concatenate((inputs[:, t, :], self.hidden_states[:, max(0, t-1), :]), axis=1)\n",
    "            self.concat_inputs[:, t, :] = inputs_hidden_concatenated\n",
    "\n",
    "            # Calculate current forget state\n",
    "            f_t = np.dot(inputs_hidden_concatenated, self.forget_weights) + self.forget_bias\n",
    "            f_t = self._sigmoid(f_t)\n",
    "            self.forget_states[:, t, :] = f_t\n",
    "\n",
    "            # Calculate current input state\n",
    "            i_t = np.dot(inputs_hidden_concatenated, self.input_weights) + self.input_bias\n",
    "            i_t = self._sigmoid(i_t)\n",
    "            self.input_states[:, t, :] = i_t\n",
    "\n",
    "            # Calculate current candidate state\n",
    "            cc_t = np.dot(inputs_hidden_concatenated, self.candidate_weights) + self.candidate_bias\n",
    "            cc_t = np.tanh(cc_t)\n",
    "            self.candidate_states[:, t, :] = cc_t\n",
    "\n",
    "            # Calculate current output state\n",
    "            o_t = np.dot(inputs_hidden_concatenated, self.output_weights) + self.output_bias\n",
    "            o_t = self._sigmoid(o_t)\n",
    "            self.output_states[:, t, :] = o_t\n",
    "\n",
    "            # Calculate current cell state\n",
    "            c_t = self.cell_states[:, max(0, t-1), :] * f_t + i_t * cc_t\n",
    "            self.cell_states[:, t, :] = c_t\n",
    "\n",
    "            # Calculate current hidden state\n",
    "            self.hidden_states[:, t, :] = o_t * np.tanh(c_t)\n",
    "       \n",
    "        if self.predict_sequence:\n",
    "            # Hidden states of the current sequence are the predicted sequence\n",
    "            self.output = self.hidden_states\n",
    "        else:\n",
    "            # Last hidden state of the current sequence is the predicted element\n",
    "            self.output = self.hidden_states[:, -1, :]\n",
    "\n",
    "    def backward(self, delta: np.ndarray) -> None:\n",
    "        \"\"\"\n",
    "        Backward pass using the LSTM layer. \n",
    "        Creates gradient attributes with respect to input, forget, candidate, output weights and biases, and inputs.\n",
    "\n",
    "        Parameters\n",
    "        ----------\n",
    "        delta : np.ndarray\n",
    "            Accumulated gradient obtained by backpropagation.\n",
    "\n",
    "        Returns\n",
    "        -------\n",
    "        None\n",
    "        \"\"\"\n",
    "        # Initialize gradient attributes\n",
    "        self.dforget_weights = np.zeros_like(self.forget_weights)\n",
    "        self.dforget_bias = np.zeros_like(self.forget_bias)\n",
    "\n",
    "        self.dinput_weights = np.zeros_like(self.input_weights)\n",
    "        self.dinput_bias = np.zeros_like(self.input_bias)\n",
    "\n",
    "        self.dcandidate_weights = np.zeros_like(self.candidate_weights)\n",
    "        self.dcandidate_bias = np.zeros_like(self.candidate_bias)\n",
    "\n",
    "        self.doutput_weights = np.zeros_like(self.output_weights)\n",
    "        self.doutput_bias = np.zeros_like(self.output_bias)\n",
    "\n",
    "        self.dinputs = np.zeros(self.input_shape, dtype=np.float64)\n",
    "\n",
    "        # Initialize next cell state gradient\n",
    "        next_cell_state_grad = None\n",
    "\n",
    "        # Loop through timestamps in reversed order\n",
    "        for t in range(self.timestamps - 1, -1, -1):\n",
    "\n",
    "            # Get current states\n",
    "            c_t = self.cell_states[:, t, :]\n",
    "            cc_t = self.candidate_states[:, t, :]\n",
    "            o_t = self.output_states[:, t, :]\n",
    "            f_t = self.forget_states[:, t, :]\n",
    "            i_t = self.input_states[:, t, :]\n",
    "            x_t = self.concat_inputs[:, t, :]\n",
    "\n",
    "            if len(delta.shape) == 2:\n",
    "                delta_t = delta\n",
    "            elif len(delta.shape) == 3:\n",
    "                delta_t = delta[:, t, :]\n",
    "\n",
    "            output_grad = delta_t * np.tanh(c_t) * (1 - o_t) * o_t\n",
    "            self.doutput_weights += np.dot(x_t.T, output_grad)\n",
    "            self.doutput_bias += output_grad.sum(axis=0)\n",
    "\n",
    "            cell_state_grad = delta_t * o_t * (1 - np.tanh(c_t)**2)\n",
    "            if next_cell_state_grad is not None:\n",
    "                cell_state_grad += next_cell_state_grad * self.forget_states[:, t+1, :]\n",
    "\n",
    "            next_cell_state_grad = cell_state_grad\n",
    "\n",
    "            candidate_grad = cell_state_grad *  i_t * (1 - cc_t**2)\n",
    "\n",
    "            self.dcandidate_weights += np.dot(x_t.T, candidate_grad)\n",
    "            self.dcandidate_bias += candidate_grad.sum(axis=0)\n",
    "\n",
    "            input_grad = cell_state_grad * cc_t * (1 - i_t) * i_t\n",
    "            self.dinput_weights += np.dot(x_t.T, input_grad)\n",
    "            self.dinput_bias += input_grad.sum(axis=0)\n",
    "\n",
    "            if t > 0:\n",
    "                forget_grad = cell_state_grad * self.candidate_states[:, t-1, :] * ((1 - f_t) * f_t)\n",
    "                self.forget_weights += np.dot(x_t.T, forget_grad)\n",
    "                self.forget_bias += forget_grad.sum(axis=0)\n",
    "\n",
    "            self.dinputs[:, t, :] = np.dot(output_grad, self.output_weights[:self.n_inputs, :].T)  + \\\n",
    "                                    np.dot(input_grad, self.input_weights[:self.n_inputs, :].T) + \\\n",
    "                                    np.dot(forget_grad, self.forget_weights[:self.n_inputs, :].T) + \\\n",
    "                                    np.dot(candidate_grad, self.candidate_weights[:self.n_inputs, :].T)\n",
    "   \n",
    "    def _sigmoid(self, x: np.ndarray) -> np.ndarray:\n",
    "        \"\"\"\n",
    "        Sigmoid activation function.\n",
    "\n",
    "        Parameters\n",
    "        ----------\n",
    "        x : np.ndarray\n",
    "            Input array.\n",
    "\n",
    "        Returns\n",
    "        -------\n",
    "        sigmoid_output : np.ndarray\n",
    "        \"\"\"\n",
    "        x = np.clip(x, -50, 50)\n",
    "        return 1 / (1 + np.exp(-x))\n",
    "    \n",
    "class LSTM:\n",
    "\n",
    "    def __init__(self, n_inputs: int, n_hidden: int, n_layers: int = 1, predict_sequence: bool = False) -> None:\n",
    "        \"\"\"\n",
    "        LSTM neural network. Takes 3D arrays of shape (n_samples, n_timestamps, n_features) as input.\n",
    "\n",
    "        Parameters\n",
    "        ----------\n",
    "        n_inputs : int\n",
    "            Number of input features.\n",
    "\n",
    "        n_hidden : int\n",
    "            Number of hidden features.\n",
    "\n",
    "        n_layers : int, default=1\n",
    "            Number of LSTM layers.\n",
    "\n",
    "        predict_sequence : bool, default=False\n",
    "            Whether a sequence or a single element is returned as output.\n",
    "\n",
    "        Attributes\n",
    "        ----------\n",
    "        lstm_layers : list[LSTMLayer]\n",
    "            List containing LSTM layers.\n",
    "        \"\"\"\n",
    "        if n_layers == 1:\n",
    "            self.lstm_layers = [LSTMLayer(n_inputs, n_hidden, predict_sequence)]\n",
    "        else:\n",
    "            self.lstm_layers = [LSTMLayer(n_inputs, n_hidden)]\n",
    "            if predict_sequence:\n",
    "                for i in range(n_layers - 1):\n",
    "                    if i == n_layers - 2:\n",
    "                        self.lstm_layers.append(LSTMLayer(n_hidden, n_hidden, predict_sequence=True))\n",
    "                    else:\n",
    "                        self.lstm_layers.append(LSTMLayer(n_hidden, n_hidden))\n",
    "            else:\n",
    "                for i in range(n_layers - 1):\n",
    "                    self.lstm_layers.append(LSTMLayer(n_hidden, n_hidden))\n",
    "\n",
    "    def forward(self, inputs: np.ndarray) -> None:\n",
    "        \"\"\"\n",
    "        Forward pass using the LSTM. Creates output attribute.\n",
    "\n",
    "        Parameters\n",
    "        ----------\n",
    "        inputs : numpy.ndarray\n",
    "            Input matrix.\n",
    "\n",
    "        Returns\n",
    "        -------\n",
    "        None\n",
    "        \"\"\"\n",
    "        # Pass data to the first LSTM layer\n",
    "        self.lstm_layers[0].forward(inputs)\n",
    "\n",
    "        # Forward hidden states of the previous LSTM layer to the current one\n",
    "        for idx, layer in enumerate(self.lstm_layers[1:], start=1):\n",
    "            layer.forward(self.lstm_layers[idx - 1].hidden_states)\n",
    "\n",
    "        # Output of the LSTM is the final LSTM layer's output\n",
    "        self.output = self.lstm_layers[-1].output.copy()\n",
    "\n",
    "    def backward(self, delta: np.ndarray) -> None:\n",
    "        \"\"\"\n",
    "        Backward pass using the LSTM.\n",
    "\n",
    "        Parameters\n",
    "        ----------\n",
    "        delta : np.ndarray\n",
    "            Accumulated gradient obtained by backpropagation.\n",
    "\n",
    "        Returns\n",
    "        -------\n",
    "        None\n",
    "        \"\"\"\n",
    "        # Pass gradient to the final LSTM layer\n",
    "        self.lstm_layers[-1].backward(delta)\n",
    "\n",
    "        # Backpropagate gradient\n",
    "        for idx, layer in reversed(list(enumerate(self.lstm_layers[:-1]))):\n",
    "            layer.backward(self.lstm_layers[idx + 1].dinputs)"
   ]
  },
  {
   "cell_type": "code",
   "execution_count": 3,
   "metadata": {},
   "outputs": [],
   "source": [
    "def convert_data_to_sequence(X, y, sequence_length, predict_sequence=False):\n",
    "    X_new = []\n",
    "    y_new = []\n",
    "\n",
    "    if predict_sequence:\n",
    "        for i in range(len(X) - sequence_length):\n",
    "            X_new.append(X[i:i+sequence_length, :])\n",
    "            y_new.append(y[i:i+sequence_length])\n",
    "    else:\n",
    "        for i in range(len(X) - sequence_length):\n",
    "            X_new.append(X[i:i+sequence_length, :])\n",
    "            y_new.append(y[i+sequence_length])\n",
    "\n",
    "    X_new, y_new = np.array(X_new), np.array(y_new)\n",
    "\n",
    "    return X_new, y_new"
   ]
  },
  {
   "cell_type": "markdown",
   "metadata": {},
   "source": [
    "# Sine dataset"
   ]
  },
  {
   "cell_type": "code",
   "execution_count": 4,
   "metadata": {},
   "outputs": [],
   "source": [
    "def create_sine_data(start, stop, n_samples):\n",
    "    X = np.linspace(start, stop, n_samples)\n",
    "    y = np.sin(X)\n",
    "    return X, y\n",
    "\n",
    "X, y = create_sine_data(-20, 20, 500)"
   ]
  },
  {
   "cell_type": "markdown",
   "metadata": {},
   "source": [
    "# Train test split"
   ]
  },
  {
   "cell_type": "code",
   "execution_count": 5,
   "metadata": {},
   "outputs": [
    {
     "name": "stdout",
     "output_type": "stream",
     "text": [
      "X_train: (400, 1), y_train: (400, 1)\n",
      "X_test: (100, 1), y_test: (100, 1)\n"
     ]
    }
   ],
   "source": [
    "threshold = 0.8\n",
    "\n",
    "X_train = X[:int(threshold*len(X))].copy().reshape(-1, 1)\n",
    "y_train = y[:int(threshold*len(X))].copy().reshape(-1, 1)\n",
    "\n",
    "X_test = X[int(threshold*len(X)):].copy().reshape(-1, 1)\n",
    "y_test = y[int(threshold*len(X)):].copy().reshape(-1, 1)\n",
    "\n",
    "print(f'X_train: {X_train.shape}, y_train: {y_train.shape}')\n",
    "print(f'X_test: {X_test.shape}, y_test: {y_test.shape}')"
   ]
  },
  {
   "cell_type": "markdown",
   "metadata": {},
   "source": [
    "# Creating sequences"
   ]
  },
  {
   "cell_type": "code",
   "execution_count": 6,
   "metadata": {},
   "outputs": [
    {
     "name": "stdout",
     "output_type": "stream",
     "text": [
      "X_train: (395, 5, 1), y_train: (395, 1)\n",
      "X_test: (95, 5, 1), y_test: (95, 1)\n"
     ]
    }
   ],
   "source": [
    "sequence_len = 5\n",
    "\n",
    "X_train_seq, y_train_seq = convert_data_to_sequence(X_train, y_train, sequence_len)\n",
    "X_test_seq, y_test_seq = convert_data_to_sequence(X_test, y_test, sequence_len)\n",
    "\n",
    "print(f'X_train: {X_train_seq.shape}, y_train: {y_train_seq.shape}')\n",
    "print(f'X_test: {X_test_seq.shape}, y_test: {y_test_seq.shape}')"
   ]
  },
  {
   "cell_type": "markdown",
   "metadata": {},
   "source": [
    "# Many to one LSTM"
   ]
  },
  {
   "cell_type": "code",
   "execution_count": 7,
   "metadata": {},
   "outputs": [
    {
     "name": "stdout",
     "output_type": "stream",
     "text": [
      "===== EPOCH : 0 ===== LOSS : 0.24757 =====\n",
      "===== EPOCH : 50 ===== LOSS : 0.22071 =====\n",
      "===== EPOCH : 100 ===== LOSS : 0.13930 =====\n",
      "===== EPOCH : 150 ===== LOSS : 0.10768 =====\n",
      "===== EPOCH : 200 ===== LOSS : 0.09185 =====\n",
      "===== EPOCH : 250 ===== LOSS : 0.04564 =====\n",
      "===== EPOCH : 300 ===== LOSS : 0.03472 =====\n",
      "===== EPOCH : 350 ===== LOSS : 0.00581 =====\n",
      "===== EPOCH : 400 ===== LOSS : 0.00369 =====\n",
      "===== EPOCH : 450 ===== LOSS : 0.00121 =====\n",
      "===== EPOCH : 500 ===== LOSS : 0.00097 =====\n"
     ]
    }
   ],
   "source": [
    "from dlfs import Model\n",
    "from dlfs.loss import MSE_Loss\n",
    "from dlfs.optimizers import Optimizer_Adam\n",
    "from dlfs.layers import LSTM, DenseLayer\n",
    "\n",
    "np.random.seed(0)\n",
    "\n",
    "layers = [LSTM(1, 256, n_layers=2),\n",
    "          DenseLayer(256, 1)\n",
    "          ]\n",
    "lr = 1e-2\n",
    "\n",
    "model = Model(layers=layers, loss_function=MSE_Loss(), optimizer=Optimizer_Adam(learning_rate=lr))\n",
    "model.train(X_train_seq, y_train_seq, epochs=500, batch_size=None, print_every=50)"
   ]
  },
  {
   "cell_type": "code",
   "execution_count": 8,
   "metadata": {},
   "outputs": [
    {
     "name": "stdout",
     "output_type": "stream",
     "text": [
      "Sequence loss: 0.5013394064143949\n"
     ]
    },
    {
     "data": {
      "image/png": "[encoded data removed]",
      "text/plain": [
       "<Figure size 640x480 with 1 Axes>"
      ]
     },
     "metadata": {},
     "output_type": "display_data"
    }
   ],
   "source": [
    "x = [x for x in range(len(X_train_seq))]\n",
    "\n",
    "y_true = y_train_seq\n",
    "\n",
    "x_pred = X_train_seq\n",
    "y_pred = model.predict(x_pred)\n",
    "\n",
    "print(f'Sequence loss: {model.loss_function.calculate(y_pred.reshape(-1), y_true)}')\n",
    "\n",
    "plt.plot(x, y_true, color='blue', label=\"True\")\n",
    "plt.plot(x, y_pred, color=\"red\", label=\"Prediction\")\n",
    "plt.xlabel('Timestamps')\n",
    "plt.ylabel('Temperature')\n",
    "plt.legend()\n",
    "plt.show()"
   ]
  },
  {
   "cell_type": "markdown",
   "metadata": {},
   "source": [
    "# Weather dataset"
   ]
  },
  {
   "cell_type": "code",
   "execution_count": 43,
   "metadata": {},
   "outputs": [
    {
     "data": {
      "text/html": [
       "<div>\n",
       "<style scoped>\n",
       "    .dataframe tbody tr th:only-of-type {\n",
       "        vertical-align: middle;\n",
       "    }\n",
       "\n",
       "    .dataframe tbody tr th {\n",
       "        vertical-align: top;\n",
       "    }\n",
       "\n",
       "    .dataframe thead th {\n",
       "        text-align: right;\n",
       "    }\n",
       "</style>\n",
       "<table border=\"1\" class=\"dataframe\">\n",
       "  <thead>\n",
       "    <tr style=\"text-align: right;\">\n",
       "      <th></th>\n",
       "      <th>date</th>\n",
       "      <th>tmax</th>\n",
       "      <th>tmin</th>\n",
       "      <th>rain</th>\n",
       "      <th>tmax_tomorrow</th>\n",
       "    </tr>\n",
       "  </thead>\n",
       "  <tbody>\n",
       "    <tr>\n",
       "      <th>0</th>\n",
       "      <td>1970-01-01</td>\n",
       "      <td>60.0</td>\n",
       "      <td>35.0</td>\n",
       "      <td>0.00</td>\n",
       "      <td>52.0</td>\n",
       "    </tr>\n",
       "    <tr>\n",
       "      <th>1</th>\n",
       "      <td>1970-01-02</td>\n",
       "      <td>52.0</td>\n",
       "      <td>39.0</td>\n",
       "      <td>0.00</td>\n",
       "      <td>52.0</td>\n",
       "    </tr>\n",
       "    <tr>\n",
       "      <th>2</th>\n",
       "      <td>1970-01-03</td>\n",
       "      <td>52.0</td>\n",
       "      <td>35.0</td>\n",
       "      <td>0.00</td>\n",
       "      <td>53.0</td>\n",
       "    </tr>\n",
       "    <tr>\n",
       "      <th>3</th>\n",
       "      <td>1970-01-04</td>\n",
       "      <td>53.0</td>\n",
       "      <td>36.0</td>\n",
       "      <td>0.00</td>\n",
       "      <td>52.0</td>\n",
       "    </tr>\n",
       "    <tr>\n",
       "      <th>4</th>\n",
       "      <td>1970-01-05</td>\n",
       "      <td>52.0</td>\n",
       "      <td>35.0</td>\n",
       "      <td>0.00</td>\n",
       "      <td>50.0</td>\n",
       "    </tr>\n",
       "    <tr>\n",
       "      <th>5</th>\n",
       "      <td>1970-01-06</td>\n",
       "      <td>50.0</td>\n",
       "      <td>38.0</td>\n",
       "      <td>0.00</td>\n",
       "      <td>52.0</td>\n",
       "    </tr>\n",
       "    <tr>\n",
       "      <th>6</th>\n",
       "      <td>1970-01-07</td>\n",
       "      <td>52.0</td>\n",
       "      <td>43.0</td>\n",
       "      <td>0.00</td>\n",
       "      <td>56.0</td>\n",
       "    </tr>\n",
       "    <tr>\n",
       "      <th>7</th>\n",
       "      <td>1970-01-08</td>\n",
       "      <td>56.0</td>\n",
       "      <td>49.0</td>\n",
       "      <td>0.24</td>\n",
       "      <td>54.0</td>\n",
       "    </tr>\n",
       "    <tr>\n",
       "      <th>8</th>\n",
       "      <td>1970-01-09</td>\n",
       "      <td>54.0</td>\n",
       "      <td>50.0</td>\n",
       "      <td>0.40</td>\n",
       "      <td>57.0</td>\n",
       "    </tr>\n",
       "    <tr>\n",
       "      <th>9</th>\n",
       "      <td>1970-01-10</td>\n",
       "      <td>57.0</td>\n",
       "      <td>50.0</td>\n",
       "      <td>0.00</td>\n",
       "      <td>57.0</td>\n",
       "    </tr>\n",
       "  </tbody>\n",
       "</table>\n",
       "</div>"
      ],
      "text/plain": [
       "         date  tmax  tmin  rain  tmax_tomorrow\n",
       "0  1970-01-01  60.0  35.0  0.00           52.0\n",
       "1  1970-01-02  52.0  39.0  0.00           52.0\n",
       "2  1970-01-03  52.0  35.0  0.00           53.0\n",
       "3  1970-01-04  53.0  36.0  0.00           52.0\n",
       "4  1970-01-05  52.0  35.0  0.00           50.0\n",
       "5  1970-01-06  50.0  38.0  0.00           52.0\n",
       "6  1970-01-07  52.0  43.0  0.00           56.0\n",
       "7  1970-01-08  56.0  49.0  0.24           54.0\n",
       "8  1970-01-09  54.0  50.0  0.40           57.0\n",
       "9  1970-01-10  57.0  50.0  0.00           57.0"
      ]
     },
     "execution_count": 43,
     "metadata": {},
     "output_type": "execute_result"
    }
   ],
   "source": [
    "import pandas as pd\n",
    "\n",
    "data = pd.read_csv('clean_weather.csv', names=['date', 'tmax', 'tmin', 'rain', 'tmax_tomorrow'], header=0)\n",
    "data.head(10)"
   ]
  },
  {
   "cell_type": "code",
   "execution_count": 44,
   "metadata": {},
   "outputs": [
    {
     "name": "stdout",
     "output_type": "stream",
     "text": [
      "X: (13509, 3)\n",
      "y: (13509,)\n"
     ]
    }
   ],
   "source": [
    "FEATURES = ['tmax', 'tmin', 'rain']\n",
    "TARGET = 'tmax_tomorrow'\n",
    "\n",
    "X = data[FEATURES].to_numpy()\n",
    "y = data[TARGET].to_numpy()\n",
    "\n",
    "print(f'X: {X.shape}')\n",
    "print(f'y: {y.shape}')"
   ]
  },
  {
   "cell_type": "markdown",
   "metadata": {},
   "source": [
    "# Train test split and scaling"
   ]
  },
  {
   "cell_type": "code",
   "execution_count": 45,
   "metadata": {},
   "outputs": [
    {
     "name": "stdout",
     "output_type": "stream",
     "text": [
      "X_train: (4052, 3), y_train: (4052, 1)\n",
      "X_test: (9457, 3), y_test: (9457, 1)\n"
     ]
    }
   ],
   "source": [
    "from sklearn.preprocessing import StandardScaler\n",
    "\n",
    "threshold = 0.3\n",
    "\n",
    "X_train = X[:int(threshold*len(X)),:].copy()\n",
    "y_train = y[:int(threshold*len(X))].copy()\n",
    "\n",
    "X_test = X[int(threshold*len(X)):,:].copy()\n",
    "y_test = y[int(threshold*len(X)):].copy()\n",
    "\n",
    "scaler_x = StandardScaler()\n",
    "X_train = scaler_x.fit_transform(X_train)\n",
    "X_test = scaler_x.transform(X_test)\n",
    "\n",
    "scaler_y = StandardScaler()\n",
    "y_train = scaler_y.fit_transform(y_train.reshape(-1, 1))\n",
    "y_test = scaler_y.transform(y_test.reshape(-1, 1))\n",
    "\n",
    "print(f'X_train: {X_train.shape}, y_train: {y_train.shape}')\n",
    "print(f'X_test: {X_test.shape}, y_test: {y_test.shape}')"
   ]
  },
  {
   "cell_type": "markdown",
   "metadata": {},
   "source": [
    "# Creating sequences of length 5 with one output"
   ]
  },
  {
   "cell_type": "code",
   "execution_count": 46,
   "metadata": {},
   "outputs": [
    {
     "name": "stdout",
     "output_type": "stream",
     "text": [
      "X_train_one: (4047, 5, 3), y_train_one: (4047, 1)\n",
      "X_test_one: (9452, 5, 3), y_test_one: (9452, 1)\n"
     ]
    }
   ],
   "source": [
    "seq_len = 5\n",
    "predict = False\n",
    "\n",
    "X_train_one, y_train_one = convert_data_to_sequence(X_train, y_train.reshape(-1, 1), seq_len, predict_sequence=predict)\n",
    "X_test_one, y_test_one = convert_data_to_sequence(X_test, y_test.reshape(-1, 1), seq_len, predict_sequence=predict)\n",
    "\n",
    "print(f'X_train_one: {X_train_one.shape}, y_train_one: {y_train_one.shape}')\n",
    "print(f'X_test_one: {X_test_one.shape}, y_test_one: {y_test_one.shape}')"
   ]
  },
  {
   "cell_type": "markdown",
   "metadata": {},
   "source": [
    "# Many to one LSTM"
   ]
  },
  {
   "cell_type": "code",
   "execution_count": 47,
   "metadata": {},
   "outputs": [
    {
     "name": "stdout",
     "output_type": "stream",
     "text": [
      "===== EPOCH : 0 ===== LOSS : 0.26097 =====\n",
      "===== EPOCH : 10 ===== LOSS : 0.22501 =====\n",
      "===== EPOCH : 20 ===== LOSS : 0.21238 =====\n",
      "===== EPOCH : 30 ===== LOSS : 0.20278 =====\n",
      "===== EPOCH : 40 ===== LOSS : 0.18874 =====\n",
      "===== EPOCH : 50 ===== LOSS : 0.17642 =====\n",
      "===== EPOCH : 60 ===== LOSS : 0.16112 =====\n",
      "===== EPOCH : 70 ===== LOSS : 0.14750 =====\n",
      "===== EPOCH : 80 ===== LOSS : 0.13542 =====\n",
      "===== EPOCH : 90 ===== LOSS : 0.12355 =====\n",
      "===== EPOCH : 100 ===== LOSS : 0.11594 =====\n"
     ]
    }
   ],
   "source": [
    "np.random.seed(0)\n",
    "\n",
    "layers = [LSTM(3, 64, n_layers=2),\n",
    "          DenseLayer(64, 1)\n",
    "          ]\n",
    "lr = 1e-2\n",
    "\n",
    "model = Model(layers=layers, loss_function=MSE_Loss(), optimizer=Optimizer_Adam(learning_rate=lr))\n",
    "model.train(X_train_one, y_train_one, epochs=100, batch_size=64, print_every=10)"
   ]
  },
  {
   "cell_type": "code",
   "execution_count": 57,
   "metadata": {},
   "outputs": [
    {
     "name": "stdout",
     "output_type": "stream",
     "text": [
      "Sequence loss: 60.141810927227965\n"
     ]
    },
    {
     "data": {
      "image/png": "[encoded data removed]",
      "text/plain": [
       "<Figure size 640x480 with 1 Axes>"
      ]
     },
     "metadata": {},
     "output_type": "display_data"
    }
   ],
   "source": [
    "from random import randint\n",
    "\n",
    "n_samples = 50\n",
    "x = np.array([x for x in range(n_samples)])\n",
    "\n",
    "rand_idx = randint(0, len(X_train_one) - n_samples)\n",
    "y_true = y_train_one[rand_idx:rand_idx+n_samples]\n",
    "y_true = scaler_y.inverse_transform(y_true)\n",
    "\n",
    "x_pred = X_train_one[rand_idx:rand_idx+n_samples]\n",
    "y_pred = model.predict(x_pred)\n",
    "y_pred = scaler_y.inverse_transform(y_pred)\n",
    "print(f'Sequence loss: {model.loss_function.calculate(y_pred.reshape(-1), y_true)}')\n",
    "\n",
    "plt.plot(x, y_true, color='blue', label=\"True\")\n",
    "plt.plot(x, y_pred, color=\"red\", label=\"Prediction\")\n",
    "plt.xlabel('Timestamps')\n",
    "plt.ylabel('Temperature')\n",
    "plt.legend()\n",
    "plt.show()"
   ]
  },
  {
   "cell_type": "markdown",
   "metadata": {},
   "source": [
    "# Creating sequences of length 5 with 5 outputs"
   ]
  },
  {
   "cell_type": "code",
   "execution_count": 60,
   "metadata": {},
   "outputs": [
    {
     "name": "stdout",
     "output_type": "stream",
     "text": [
      "X_train_many: (4047, 5, 3), y_train_many: (4047, 5, 1)\n",
      "X_test_many: (9452, 5, 3), y_test_many: (9452, 5, 1)\n"
     ]
    }
   ],
   "source": [
    "seq_len = 5\n",
    "predict = True\n",
    "\n",
    "X_train_many, y_train_many = convert_data_to_sequence(X_train, y_train.reshape(-1, 1), seq_len, predict_sequence=predict)\n",
    "X_test_many, y_test_many = convert_data_to_sequence(X_test, y_test.reshape(-1, 1), seq_len, predict_sequence=predict)\n",
    "\n",
    "print(f'X_train_many: {X_train_many.shape}, y_train_many: {y_train_many.shape}')\n",
    "print(f'X_test_many: {X_test_many.shape}, y_test_many: {y_test_many.shape}')"
   ]
  },
  {
   "cell_type": "markdown",
   "metadata": {},
   "source": [
    "# Many to many LSTM"
   ]
  },
  {
   "cell_type": "code",
   "execution_count": 61,
   "metadata": {},
   "outputs": [
    {
     "name": "stdout",
     "output_type": "stream",
     "text": [
      "===== EPOCH : 0 ===== LOSS : 0.20124 =====\n",
      "===== EPOCH : 10 ===== LOSS : 0.18316 =====\n",
      "===== EPOCH : 20 ===== LOSS : 0.21264 =====\n",
      "===== EPOCH : 30 ===== LOSS : 0.20538 =====\n",
      "===== EPOCH : 40 ===== LOSS : 0.20372 =====\n",
      "===== EPOCH : 50 ===== LOSS : 0.19241 =====\n",
      "===== EPOCH : 60 ===== LOSS : 0.22171 =====\n",
      "===== EPOCH : 70 ===== LOSS : 0.23579 =====\n",
      "===== EPOCH : 80 ===== LOSS : 0.17551 =====\n",
      "===== EPOCH : 90 ===== LOSS : 0.19640 =====\n",
      "===== EPOCH : 100 ===== LOSS : 0.20093 =====\n"
     ]
    }
   ],
   "source": [
    "np.random.seed(0)\n",
    "\n",
    "layers = [LSTM(3, 64, predict_sequence=True),\n",
    "          DenseLayer(64, 1)]\n",
    "lr = 1e-2\n",
    "\n",
    "model = Model(layers=layers, loss_function=MSE_Loss(), optimizer=Optimizer_Adam(learning_rate=lr))\n",
    "model.train(X_train_one, y_train_one, epochs=100, batch_size=32, print_every=10)"
   ]
  },
  {
   "cell_type": "code",
   "execution_count": 105,
   "metadata": {},
   "outputs": [
    {
     "name": "stdout",
     "output_type": "stream",
     "text": [
      "Sequence loss: 23.883076330272825\n"
     ]
    },
    {
     "data": {
      "image/png": "[encoded data removed]",
      "text/plain": [
       "<Figure size 640x480 with 1 Axes>"
      ]
     },
     "metadata": {},
     "output_type": "display_data"
    }
   ],
   "source": [
    "n_samples = 5\n",
    "x = np.array([x for x in range(n_samples * 5)])\n",
    "\n",
    "rand_idx = randint(0, len(X_train_many))\n",
    "y_true = y_train_many[rand_idx:rand_idx+n_samples]\n",
    "y_true = scaler_y.inverse_transform(y_true.reshape(-1, 1))\n",
    "\n",
    "x_pred = X_train_many[rand_idx:rand_idx+n_samples]\n",
    "y_pred = model.predict(x_pred).reshape(-1, 1)\n",
    "y_pred = scaler_y.inverse_transform(y_pred)\n",
    "print(f'Sequence loss: {model.loss_function.calculate(y_pred.reshape(-1), y_true.reshape(-1))}')\n",
    "\n",
    "plt.plot(x, y_true, color='blue', label=\"True\")\n",
    "plt.plot(x, y_pred, color=\"red\", label=\"Prediction\")\n",
    "plt.xlabel('Timestamps')\n",
    "plt.ylabel('Temperature')\n",
    "plt.legend()\n",
    "plt.show()"
   ]
  }
 ],
 "metadata": {
  "kernelspec": {
   "display_name": "Python_venv",
   "language": "python",
   "name": "python3"
  },
  "language_info": {
   "codemirror_mode": {
    "name": "ipython",
    "version": 3
   },
   "file_extension": ".py",
   "mimetype": "text/x-python",
   "name": "python",
   "nbconvert_exporter": "python",
   "pygments_lexer": "ipython3",
   "version": "3.10.12"
  }
 },
 "nbformat": 4,
 "nbformat_minor": 2
}
